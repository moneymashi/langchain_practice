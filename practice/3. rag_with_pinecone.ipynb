{
 "cells": [
  {
   "cell_type": "code",
   "execution_count": 15,
   "id": "0c2207a4",
   "metadata": {},
   "outputs": [
    {
     "name": "stdout",
     "output_type": "stream",
     "text": [
      "Requirement already satisfied: langchain-openai in d:\\saltlux\\workspace_py\\kakao\\venv\\lib\\site-packages (0.3.34)\n",
      "Requirement already satisfied: python-dotenv in d:\\saltlux\\workspace_py\\kakao\\venv\\lib\\site-packages (1.1.1)\n",
      "Requirement already satisfied: langchain-core<2.0.0,>=0.3.77 in d:\\saltlux\\workspace_py\\kakao\\venv\\lib\\site-packages (from langchain-openai) (0.3.78)\n",
      "Requirement already satisfied: openai<3.0.0,>=1.104.2 in d:\\saltlux\\workspace_py\\kakao\\venv\\lib\\site-packages (from langchain-openai) (2.1.0)\n",
      "Requirement already satisfied: tiktoken<1.0.0,>=0.7.0 in d:\\saltlux\\workspace_py\\kakao\\venv\\lib\\site-packages (from langchain-openai) (0.11.0)\n",
      "Requirement already satisfied: langsmith<1.0.0,>=0.3.45 in d:\\saltlux\\workspace_py\\kakao\\venv\\lib\\site-packages (from langchain-core<2.0.0,>=0.3.77->langchain-openai) (0.4.32)\n",
      "Requirement already satisfied: tenacity!=8.4.0,<10.0.0,>=8.1.0 in d:\\saltlux\\workspace_py\\kakao\\venv\\lib\\site-packages (from langchain-core<2.0.0,>=0.3.77->langchain-openai) (9.1.2)\n",
      "Requirement already satisfied: jsonpatch<2.0.0,>=1.33.0 in d:\\saltlux\\workspace_py\\kakao\\venv\\lib\\site-packages (from langchain-core<2.0.0,>=0.3.77->langchain-openai) (1.33)\n",
      "Requirement already satisfied: PyYAML<7.0.0,>=5.3.0 in d:\\saltlux\\workspace_py\\kakao\\venv\\lib\\site-packages (from langchain-core<2.0.0,>=0.3.77->langchain-openai) (6.0.3)\n",
      "Requirement already satisfied: typing-extensions<5.0.0,>=4.7.0 in d:\\saltlux\\workspace_py\\kakao\\venv\\lib\\site-packages (from langchain-core<2.0.0,>=0.3.77->langchain-openai) (4.15.0)\n",
      "Requirement already satisfied: packaging<26.0.0,>=23.2.0 in d:\\saltlux\\workspace_py\\kakao\\venv\\lib\\site-packages (from langchain-core<2.0.0,>=0.3.77->langchain-openai) (25.0)\n",
      "Requirement already satisfied: pydantic<3.0.0,>=2.7.4 in d:\\saltlux\\workspace_py\\kakao\\venv\\lib\\site-packages (from langchain-core<2.0.0,>=0.3.77->langchain-openai) (2.11.10)\n",
      "Requirement already satisfied: anyio<5,>=3.5.0 in d:\\saltlux\\workspace_py\\kakao\\venv\\lib\\site-packages (from openai<3.0.0,>=1.104.2->langchain-openai) (4.11.0)\n",
      "Requirement already satisfied: distro<2,>=1.7.0 in d:\\saltlux\\workspace_py\\kakao\\venv\\lib\\site-packages (from openai<3.0.0,>=1.104.2->langchain-openai) (1.9.0)\n",
      "Requirement already satisfied: httpx<1,>=0.23.0 in d:\\saltlux\\workspace_py\\kakao\\venv\\lib\\site-packages (from openai<3.0.0,>=1.104.2->langchain-openai) (0.28.1)\n",
      "Requirement already satisfied: jiter<1,>=0.4.0 in d:\\saltlux\\workspace_py\\kakao\\venv\\lib\\site-packages (from openai<3.0.0,>=1.104.2->langchain-openai) (0.11.0)\n",
      "Requirement already satisfied: sniffio in d:\\saltlux\\workspace_py\\kakao\\venv\\lib\\site-packages (from openai<3.0.0,>=1.104.2->langchain-openai) (1.3.1)\n",
      "Requirement already satisfied: tqdm>4 in d:\\saltlux\\workspace_py\\kakao\\venv\\lib\\site-packages (from openai<3.0.0,>=1.104.2->langchain-openai) (4.67.1)\n",
      "Requirement already satisfied: regex>=2022.1.18 in d:\\saltlux\\workspace_py\\kakao\\venv\\lib\\site-packages (from tiktoken<1.0.0,>=0.7.0->langchain-openai) (2025.9.18)\n",
      "Requirement already satisfied: requests>=2.26.0 in d:\\saltlux\\workspace_py\\kakao\\venv\\lib\\site-packages (from tiktoken<1.0.0,>=0.7.0->langchain-openai) (2.32.5)\n",
      "Requirement already satisfied: idna>=2.8 in d:\\saltlux\\workspace_py\\kakao\\venv\\lib\\site-packages (from anyio<5,>=3.5.0->openai<3.0.0,>=1.104.2->langchain-openai) (3.10)\n",
      "Requirement already satisfied: certifi in d:\\saltlux\\workspace_py\\kakao\\venv\\lib\\site-packages (from httpx<1,>=0.23.0->openai<3.0.0,>=1.104.2->langchain-openai) (2025.10.5)\n",
      "Requirement already satisfied: httpcore==1.* in d:\\saltlux\\workspace_py\\kakao\\venv\\lib\\site-packages (from httpx<1,>=0.23.0->openai<3.0.0,>=1.104.2->langchain-openai) (1.0.9)\n",
      "Requirement already satisfied: h11>=0.16 in d:\\saltlux\\workspace_py\\kakao\\venv\\lib\\site-packages (from httpcore==1.*->httpx<1,>=0.23.0->openai<3.0.0,>=1.104.2->langchain-openai) (0.16.0)\n",
      "Requirement already satisfied: jsonpointer>=1.9 in d:\\saltlux\\workspace_py\\kakao\\venv\\lib\\site-packages (from jsonpatch<2.0.0,>=1.33.0->langchain-core<2.0.0,>=0.3.77->langchain-openai) (3.0.0)\n",
      "Requirement already satisfied: orjson>=3.9.14 in d:\\saltlux\\workspace_py\\kakao\\venv\\lib\\site-packages (from langsmith<1.0.0,>=0.3.45->langchain-core<2.0.0,>=0.3.77->langchain-openai) (3.11.3)\n",
      "Requirement already satisfied: requests-toolbelt>=1.0.0 in d:\\saltlux\\workspace_py\\kakao\\venv\\lib\\site-packages (from langsmith<1.0.0,>=0.3.45->langchain-core<2.0.0,>=0.3.77->langchain-openai) (1.0.0)\n",
      "Requirement already satisfied: zstandard>=0.23.0 in d:\\saltlux\\workspace_py\\kakao\\venv\\lib\\site-packages (from langsmith<1.0.0,>=0.3.45->langchain-core<2.0.0,>=0.3.77->langchain-openai) (0.25.0)\n",
      "Requirement already satisfied: annotated-types>=0.6.0 in d:\\saltlux\\workspace_py\\kakao\\venv\\lib\\site-packages (from pydantic<3.0.0,>=2.7.4->langchain-core<2.0.0,>=0.3.77->langchain-openai) (0.7.0)\n",
      "Requirement already satisfied: pydantic-core==2.33.2 in d:\\saltlux\\workspace_py\\kakao\\venv\\lib\\site-packages (from pydantic<3.0.0,>=2.7.4->langchain-core<2.0.0,>=0.3.77->langchain-openai) (2.33.2)\n",
      "Requirement already satisfied: typing-inspection>=0.4.0 in d:\\saltlux\\workspace_py\\kakao\\venv\\lib\\site-packages (from pydantic<3.0.0,>=2.7.4->langchain-core<2.0.0,>=0.3.77->langchain-openai) (0.4.2)\n",
      "Requirement already satisfied: charset_normalizer<4,>=2 in d:\\saltlux\\workspace_py\\kakao\\venv\\lib\\site-packages (from requests>=2.26.0->tiktoken<1.0.0,>=0.7.0->langchain-openai) (3.4.3)\n",
      "Requirement already satisfied: urllib3<3,>=1.21.1 in d:\\saltlux\\workspace_py\\kakao\\venv\\lib\\site-packages (from requests>=2.26.0->tiktoken<1.0.0,>=0.7.0->langchain-openai) (2.5.0)\n",
      "Requirement already satisfied: colorama in d:\\saltlux\\workspace_py\\kakao\\venv\\lib\\site-packages (from tqdm>4->openai<3.0.0,>=1.104.2->langchain-openai) (0.4.6)\n",
      "Note: you may need to restart the kernel to use updated packages.\n"
     ]
    },
    {
     "name": "stderr",
     "output_type": "stream",
     "text": [
      "\n",
      "[notice] A new release of pip is available: 24.3.1 -> 25.2\n",
      "[notice] To update, run: python.exe -m pip install --upgrade pip\n"
     ]
    }
   ],
   "source": [
    "# OpenAI\n",
    "%pip install langchain-openai python-dotenv\n"
   ]
  },
  {
   "cell_type": "code",
   "execution_count": 16,
   "id": "49fbe7ea",
   "metadata": {},
   "outputs": [
    {
     "name": "stdout",
     "output_type": "stream",
     "text": [
      "Requirement already satisfied: python-dotenv in d:\\saltlux\\workspace_py\\kakao\\venv\\lib\\site-packages (1.1.1)\n",
      "Requirement already satisfied: langchain-upstage in d:\\saltlux\\workspace_py\\kakao\\venv\\lib\\site-packages (0.7.3)\n",
      "Requirement already satisfied: langchain-core<0.4.0,>=0.3.29 in d:\\saltlux\\workspace_py\\kakao\\venv\\lib\\site-packages (from langchain-upstage) (0.3.78)\n",
      "Requirement already satisfied: langchain-openai<0.4,>=0.3 in d:\\saltlux\\workspace_py\\kakao\\venv\\lib\\site-packages (from langchain-upstage) (0.3.34)\n",
      "Requirement already satisfied: pypdf<5.0.0,>=4.2.0 in d:\\saltlux\\workspace_py\\kakao\\venv\\lib\\site-packages (from langchain-upstage) (4.3.1)\n",
      "Requirement already satisfied: requests<3.0.0,>=2.31.0 in d:\\saltlux\\workspace_py\\kakao\\venv\\lib\\site-packages (from langchain-upstage) (2.32.5)\n",
      "Requirement already satisfied: tokenizers<0.21.0,>=0.20.0 in d:\\saltlux\\workspace_py\\kakao\\venv\\lib\\site-packages (from langchain-upstage) (0.20.3)\n",
      "Requirement already satisfied: langsmith<1.0.0,>=0.3.45 in d:\\saltlux\\workspace_py\\kakao\\venv\\lib\\site-packages (from langchain-core<0.4.0,>=0.3.29->langchain-upstage) (0.4.32)\n",
      "Requirement already satisfied: tenacity!=8.4.0,<10.0.0,>=8.1.0 in d:\\saltlux\\workspace_py\\kakao\\venv\\lib\\site-packages (from langchain-core<0.4.0,>=0.3.29->langchain-upstage) (9.1.2)\n",
      "Requirement already satisfied: jsonpatch<2.0.0,>=1.33.0 in d:\\saltlux\\workspace_py\\kakao\\venv\\lib\\site-packages (from langchain-core<0.4.0,>=0.3.29->langchain-upstage) (1.33)\n",
      "Requirement already satisfied: PyYAML<7.0.0,>=5.3.0 in d:\\saltlux\\workspace_py\\kakao\\venv\\lib\\site-packages (from langchain-core<0.4.0,>=0.3.29->langchain-upstage) (6.0.3)\n",
      "Requirement already satisfied: typing-extensions<5.0.0,>=4.7.0 in d:\\saltlux\\workspace_py\\kakao\\venv\\lib\\site-packages (from langchain-core<0.4.0,>=0.3.29->langchain-upstage) (4.15.0)\n",
      "Requirement already satisfied: packaging<26.0.0,>=23.2.0 in d:\\saltlux\\workspace_py\\kakao\\venv\\lib\\site-packages (from langchain-core<0.4.0,>=0.3.29->langchain-upstage) (25.0)\n",
      "Requirement already satisfied: pydantic<3.0.0,>=2.7.4 in d:\\saltlux\\workspace_py\\kakao\\venv\\lib\\site-packages (from langchain-core<0.4.0,>=0.3.29->langchain-upstage) (2.11.10)\n",
      "Requirement already satisfied: openai<3.0.0,>=1.104.2 in d:\\saltlux\\workspace_py\\kakao\\venv\\lib\\site-packages (from langchain-openai<0.4,>=0.3->langchain-upstage) (2.1.0)\n",
      "Requirement already satisfied: tiktoken<1.0.0,>=0.7.0 in d:\\saltlux\\workspace_py\\kakao\\venv\\lib\\site-packages (from langchain-openai<0.4,>=0.3->langchain-upstage) (0.11.0)\n",
      "Requirement already satisfied: charset_normalizer<4,>=2 in d:\\saltlux\\workspace_py\\kakao\\venv\\lib\\site-packages (from requests<3.0.0,>=2.31.0->langchain-upstage) (3.4.3)\n",
      "Requirement already satisfied: idna<4,>=2.5 in d:\\saltlux\\workspace_py\\kakao\\venv\\lib\\site-packages (from requests<3.0.0,>=2.31.0->langchain-upstage) (3.10)\n",
      "Requirement already satisfied: urllib3<3,>=1.21.1 in d:\\saltlux\\workspace_py\\kakao\\venv\\lib\\site-packages (from requests<3.0.0,>=2.31.0->langchain-upstage) (2.5.0)\n",
      "Requirement already satisfied: certifi>=2017.4.17 in d:\\saltlux\\workspace_py\\kakao\\venv\\lib\\site-packages (from requests<3.0.0,>=2.31.0->langchain-upstage) (2025.10.5)\n",
      "Requirement already satisfied: huggingface-hub<1.0,>=0.16.4 in d:\\saltlux\\workspace_py\\kakao\\venv\\lib\\site-packages (from tokenizers<0.21.0,>=0.20.0->langchain-upstage) (0.35.3)\n",
      "Requirement already satisfied: filelock in d:\\saltlux\\workspace_py\\kakao\\venv\\lib\\site-packages (from huggingface-hub<1.0,>=0.16.4->tokenizers<0.21.0,>=0.20.0->langchain-upstage) (3.19.1)\n",
      "Requirement already satisfied: fsspec>=2023.5.0 in d:\\saltlux\\workspace_py\\kakao\\venv\\lib\\site-packages (from huggingface-hub<1.0,>=0.16.4->tokenizers<0.21.0,>=0.20.0->langchain-upstage) (2025.9.0)\n",
      "Requirement already satisfied: tqdm>=4.42.1 in d:\\saltlux\\workspace_py\\kakao\\venv\\lib\\site-packages (from huggingface-hub<1.0,>=0.16.4->tokenizers<0.21.0,>=0.20.0->langchain-upstage) (4.67.1)\n",
      "Requirement already satisfied: jsonpointer>=1.9 in d:\\saltlux\\workspace_py\\kakao\\venv\\lib\\site-packages (from jsonpatch<2.0.0,>=1.33.0->langchain-core<0.4.0,>=0.3.29->langchain-upstage) (3.0.0)\n",
      "Requirement already satisfied: httpx<1,>=0.23.0 in d:\\saltlux\\workspace_py\\kakao\\venv\\lib\\site-packages (from langsmith<1.0.0,>=0.3.45->langchain-core<0.4.0,>=0.3.29->langchain-upstage) (0.28.1)\n",
      "Requirement already satisfied: orjson>=3.9.14 in d:\\saltlux\\workspace_py\\kakao\\venv\\lib\\site-packages (from langsmith<1.0.0,>=0.3.45->langchain-core<0.4.0,>=0.3.29->langchain-upstage) (3.11.3)\n",
      "Requirement already satisfied: requests-toolbelt>=1.0.0 in d:\\saltlux\\workspace_py\\kakao\\venv\\lib\\site-packages (from langsmith<1.0.0,>=0.3.45->langchain-core<0.4.0,>=0.3.29->langchain-upstage) (1.0.0)\n",
      "Requirement already satisfied: zstandard>=0.23.0 in d:\\saltlux\\workspace_py\\kakao\\venv\\lib\\site-packages (from langsmith<1.0.0,>=0.3.45->langchain-core<0.4.0,>=0.3.29->langchain-upstage) (0.25.0)\n",
      "Requirement already satisfied: anyio<5,>=3.5.0 in d:\\saltlux\\workspace_py\\kakao\\venv\\lib\\site-packages (from openai<3.0.0,>=1.104.2->langchain-openai<0.4,>=0.3->langchain-upstage) (4.11.0)\n",
      "Requirement already satisfied: distro<2,>=1.7.0 in d:\\saltlux\\workspace_py\\kakao\\venv\\lib\\site-packages (from openai<3.0.0,>=1.104.2->langchain-openai<0.4,>=0.3->langchain-upstage) (1.9.0)\n",
      "Requirement already satisfied: jiter<1,>=0.4.0 in d:\\saltlux\\workspace_py\\kakao\\venv\\lib\\site-packages (from openai<3.0.0,>=1.104.2->langchain-openai<0.4,>=0.3->langchain-upstage) (0.11.0)\n",
      "Requirement already satisfied: sniffio in d:\\saltlux\\workspace_py\\kakao\\venv\\lib\\site-packages (from openai<3.0.0,>=1.104.2->langchain-openai<0.4,>=0.3->langchain-upstage) (1.3.1)\n",
      "Requirement already satisfied: annotated-types>=0.6.0 in d:\\saltlux\\workspace_py\\kakao\\venv\\lib\\site-packages (from pydantic<3.0.0,>=2.7.4->langchain-core<0.4.0,>=0.3.29->langchain-upstage) (0.7.0)\n",
      "Requirement already satisfied: pydantic-core==2.33.2 in d:\\saltlux\\workspace_py\\kakao\\venv\\lib\\site-packages (from pydantic<3.0.0,>=2.7.4->langchain-core<0.4.0,>=0.3.29->langchain-upstage) (2.33.2)\n",
      "Requirement already satisfied: typing-inspection>=0.4.0 in d:\\saltlux\\workspace_py\\kakao\\venv\\lib\\site-packages (from pydantic<3.0.0,>=2.7.4->langchain-core<0.4.0,>=0.3.29->langchain-upstage) (0.4.2)\n",
      "Requirement already satisfied: regex>=2022.1.18 in d:\\saltlux\\workspace_py\\kakao\\venv\\lib\\site-packages (from tiktoken<1.0.0,>=0.7.0->langchain-openai<0.4,>=0.3->langchain-upstage) (2025.9.18)\n",
      "Requirement already satisfied: httpcore==1.* in d:\\saltlux\\workspace_py\\kakao\\venv\\lib\\site-packages (from httpx<1,>=0.23.0->langsmith<1.0.0,>=0.3.45->langchain-core<0.4.0,>=0.3.29->langchain-upstage) (1.0.9)\n",
      "Requirement already satisfied: h11>=0.16 in d:\\saltlux\\workspace_py\\kakao\\venv\\lib\\site-packages (from httpcore==1.*->httpx<1,>=0.23.0->langsmith<1.0.0,>=0.3.45->langchain-core<0.4.0,>=0.3.29->langchain-upstage) (0.16.0)\n",
      "Requirement already satisfied: colorama in d:\\saltlux\\workspace_py\\kakao\\venv\\lib\\site-packages (from tqdm>=4.42.1->huggingface-hub<1.0,>=0.16.4->tokenizers<0.21.0,>=0.20.0->langchain-upstage) (0.4.6)\n",
      "Note: you may need to restart the kernel to use updated packages.\n"
     ]
    },
    {
     "name": "stderr",
     "output_type": "stream",
     "text": [
      "\n",
      "[notice] A new release of pip is available: 24.3.1 -> 25.2\n",
      "[notice] To update, run: python.exe -m pip install --upgrade pip\n"
     ]
    }
   ],
   "source": [
    "# Upstage\n",
    "%pip install python-dotenv langchain-upstage \n"
   ]
  },
  {
   "cell_type": "code",
   "execution_count": 17,
   "id": "8d110ed4",
   "metadata": {},
   "outputs": [
    {
     "data": {
      "text/plain": [
       "True"
      ]
     },
     "execution_count": 17,
     "metadata": {},
     "output_type": "execute_result"
    }
   ],
   "source": [
    "from dotenv import load_dotenv\n",
    "load_dotenv()"
   ]
  },
  {
   "cell_type": "code",
   "execution_count": null,
   "id": "b0af7e3d",
   "metadata": {},
   "outputs": [
    {
     "data": {
      "text/plain": [
       "'인프런은 다양한 주제의 온라인 강의를 제공하는 플랫폼으로, 주로 프로그래밍, 데이터 분석, 인공지능, 웹 개발, 모바일 개발, 디자인, UX/UI, 마케팅 등 다양한 분야의 강의가 있습니다. \\n\\n몇 가지 예시로는:\\n\\n1. **프로그래밍**: Python, Java, JavaScript, C++ 등 다양한 언어의 기초 및 심화 과정\\n2. **웹 개발**: HTML, CSS, React, Vue.js, Node.js 등 웹 프레임워크 및 라이브러리 강의\\n3. **데이터 과학**: 데이터 분석, 머신러닝, 딥러닝 관련 과정\\n4. **모바일 개발**: Android, iOS 개발 강의\\n5. **디자인**: 그래픽 디자인, UX/UI 디자인 등\\n\\n각 강의는 사전 지식 여부에 따라 초급, 중급, 고급 과정으로 나뉘어져 있어 학습자의 수준에 맞춰 선택할 수 있습니다. 특정 강의나 카테고리에 대한 정보는 인프런 공식 웹사이트를 방문하시면 더욱 자세히 확인할 수 있습니다.'"
      ]
     },
     "execution_count": 6,
     "metadata": {},
     "output_type": "execute_result"
    }
   ],
   "source": [
    "import os\n",
    "from langchain_openai import ChatOpenAI\n",
    "\n",
    "# .env 에서 OPENAI_API_KEY 변수명을 지정해서 가져올수 있지만, 가능하면 OPENAI_API_KEY로 고정해서 사용하는게 좋다 (여러파일에서 별도 설정없이 재사용성이 높아짐.)\n",
    "# api_key = os.getenv(\"OPENAI_API_KEY\")\n",
    "llm = ChatOpenAI(model = \"gpt-4o-mini\")\n",
    "\n",
    "# AIMessage(content='인프런에는 다양한 주제의 강의가 있습니다. 프로그래밍, 디자인, 비즈니스, 언어 등 여러 분야의 강의를 제공하고 있습니다. 대표적으로는 파이썬, 자바스크립트, 리액트, 그래픽디자인, 마케팅, 영어회화 등 다양한 주제의 강의가 있습니다. 특히 실무에 필요한 실습 강의도 많이 제공되어 있어 직무 스킬 향상에 도움이 될 수 있습니다. 원하는 주제나 강사를 검색하여 강의를 수강할 수 있습니다.'\n",
    "# , additional_kwargs={'refusal': None}, response_metadata={'token_usage': {'completion_tokens': 199, 'prompt_tokens': 26, 'total_tokens': 225, 'completion_tokens_details': {'accepted_prediction_tokens': 0, 'audio_tokens': 0, 'reasoning_tokens': 0, 'rejected_prediction_tokens': 0}, 'prompt_tokens_details': {'audio_tokens': 0, 'cached_tokens': 0}}, 'model_name': 'gpt-3.5-turbo-0125', 'system_fingerprint': None, 'id': 'chatcmpl-CNUoqWvYImv95uZCfKh8fRLj3bNbR', 'service_tier': 'default', 'finish_reason': 'stop', 'logprobs': None}, id='run--1ffefe4b-f91c-4371-9fc2-8ebdf1588753-0'\n",
    "# , usage_metadata={'input_tokens': 26, 'output_tokens': 199, 'total_tokens': 225, 'input_token_details': {'audio': 0, 'cache_read': 0}, 'output_token_details': {'audio': 0, 'reasoning': 0}})\n",
    "ai_message = llm.invoke(\"인프런에 어떤강의가 있나요?\")\n",
    "\n",
    "#'인프런은 다양한 주제의 온라인 강의를 제공하는 플랫폼으로, 주로 프로그래밍, 데이터 분석, 인공지능, 웹 개발, 모바일 개발, 디자인, UX/UI, 마케팅 등 다양한 분야의 강의가 있습니다. \\n\\n몇 가지 예시로는:\\n\\n1. **프로그래밍**: Python, Java, JavaScript, C++ 등 다양한 언어의 기초 및 심화 과정\\n2. **웹 개발**: HTML, CSS, React, Vue.js, Node.js 등 웹 프레임워크 및 라이브러리 강의\\n3. **데이터 과학**: 데이터 분석, 머신러닝, 딥러닝 관련 과정\\n4. **모바일 개발**: Android, iOS 개발 강의\\n5. **디자인**: 그래픽 디자인, UX/UI 디자인 등\\n\\n각 강의는 사전 지식 여부에 따라 초급, 중급, 고급 과정으로 나뉘어져 있어 학습자의 수준에 맞춰 선택할 수 있습니다. 특정 강의나 카테고리에 대한 정보는 인프런 공식 웹사이트를 방문하시면 더욱 자세히 확인할 수 있습니다.'\n",
    "ai_message.content\n",
    "\n"
   ]
  },
  {
   "cell_type": "code",
   "execution_count": null,
   "id": "3d02beaa",
   "metadata": {},
   "outputs": [],
   "source": [
    "### ChatUpstage - langchain 0.3 버전호환 의심 -> 작동안됨... ㅜㅜ\n",
    "\n",
    "# from langchain_upstage import ChatUpstage\n",
    " \n",
    "# llm = ChatUpstage(model=\"solar-pro2\")\n",
    " \n",
    "# response = llm.invoke(\"coursera에 인기있는 강의 3개가 있나요?\")\n",
    "# print(response)\n"
   ]
  },
  {
   "cell_type": "code",
   "execution_count": null,
   "id": "31a86ff4",
   "metadata": {},
   "outputs": [
    {
     "name": "stdout",
     "output_type": "stream",
     "text": [
      "Requirement already satisfied: python-dotenv in d:\\saltlux\\workspace_py\\kakao\\venv\\lib\\site-packages (1.1.1)\n",
      "Collecting langchain-community\n",
      "  Using cached langchain_community-0.3.30-py3-none-any.whl.metadata (3.0 kB)\n",
      "Requirement already satisfied: langchain-core<2.0.0,>=0.3.75 in d:\\saltlux\\workspace_py\\kakao\\venv\\lib\\site-packages (from langchain-community) (0.3.78)\n",
      "Collecting langchain<2.0.0,>=0.3.27 (from langchain-community)\n",
      "  Using cached langchain-0.3.27-py3-none-any.whl.metadata (7.8 kB)\n",
      "Collecting SQLAlchemy<3.0.0,>=1.4.0 (from langchain-community)\n",
      "  Using cached sqlalchemy-2.0.43-cp313-cp313-win_amd64.whl.metadata (9.8 kB)\n",
      "Requirement already satisfied: requests<3.0.0,>=2.32.5 in d:\\saltlux\\workspace_py\\kakao\\venv\\lib\\site-packages (from langchain-community) (2.32.5)\n",
      "Requirement already satisfied: PyYAML<7.0.0,>=5.3.0 in d:\\saltlux\\workspace_py\\kakao\\venv\\lib\\site-packages (from langchain-community) (6.0.3)\n",
      "Collecting aiohttp<4.0.0,>=3.8.3 (from langchain-community)\n",
      "  Using cached aiohttp-3.12.15-cp313-cp313-win_amd64.whl.metadata (7.9 kB)\n",
      "Requirement already satisfied: tenacity!=8.4.0,<10.0.0,>=8.1.0 in d:\\saltlux\\workspace_py\\kakao\\venv\\lib\\site-packages (from langchain-community) (9.1.2)\n",
      "Collecting dataclasses-json<0.7.0,>=0.6.7 (from langchain-community)\n",
      "  Using cached dataclasses_json-0.6.7-py3-none-any.whl.metadata (25 kB)\n",
      "Collecting pydantic-settings<3.0.0,>=2.10.1 (from langchain-community)\n",
      "  Using cached pydantic_settings-2.11.0-py3-none-any.whl.metadata (3.4 kB)\n",
      "Requirement already satisfied: langsmith<1.0.0,>=0.1.125 in d:\\saltlux\\workspace_py\\kakao\\venv\\lib\\site-packages (from langchain-community) (0.4.32)\n",
      "Collecting httpx-sse<1.0.0,>=0.4.0 (from langchain-community)\n",
      "  Using cached httpx_sse-0.4.1-py3-none-any.whl.metadata (9.4 kB)\n",
      "Collecting numpy>=2.1.0 (from langchain-community)\n",
      "  Downloading numpy-2.3.3-cp313-cp313-win_amd64.whl.metadata (60 kB)\n",
      "Collecting aiohappyeyeballs>=2.5.0 (from aiohttp<4.0.0,>=3.8.3->langchain-community)\n",
      "  Using cached aiohappyeyeballs-2.6.1-py3-none-any.whl.metadata (5.9 kB)\n",
      "Collecting aiosignal>=1.4.0 (from aiohttp<4.0.0,>=3.8.3->langchain-community)\n",
      "  Using cached aiosignal-1.4.0-py3-none-any.whl.metadata (3.7 kB)\n",
      "Collecting attrs>=17.3.0 (from aiohttp<4.0.0,>=3.8.3->langchain-community)\n",
      "  Using cached attrs-25.3.0-py3-none-any.whl.metadata (10 kB)\n",
      "Collecting frozenlist>=1.1.1 (from aiohttp<4.0.0,>=3.8.3->langchain-community)\n",
      "  Using cached frozenlist-1.7.0-cp313-cp313-win_amd64.whl.metadata (19 kB)\n",
      "Collecting multidict<7.0,>=4.5 (from aiohttp<4.0.0,>=3.8.3->langchain-community)\n",
      "  Using cached multidict-6.6.4-cp313-cp313-win_amd64.whl.metadata (5.4 kB)\n",
      "Collecting propcache>=0.2.0 (from aiohttp<4.0.0,>=3.8.3->langchain-community)\n",
      "  Downloading propcache-0.4.0-cp313-cp313-win_amd64.whl.metadata (13 kB)\n",
      "Collecting yarl<2.0,>=1.17.0 (from aiohttp<4.0.0,>=3.8.3->langchain-community)\n",
      "  Downloading yarl-1.21.0-cp313-cp313-win_amd64.whl.metadata (77 kB)\n",
      "Collecting marshmallow<4.0.0,>=3.18.0 (from dataclasses-json<0.7.0,>=0.6.7->langchain-community)\n",
      "  Using cached marshmallow-3.26.1-py3-none-any.whl.metadata (7.3 kB)\n",
      "Collecting typing-inspect<1,>=0.4.0 (from dataclasses-json<0.7.0,>=0.6.7->langchain-community)\n",
      "  Using cached typing_inspect-0.9.0-py3-none-any.whl.metadata (1.5 kB)\n",
      "Collecting langchain-text-splitters<1.0.0,>=0.3.9 (from langchain<2.0.0,>=0.3.27->langchain-community)\n",
      "  Using cached langchain_text_splitters-0.3.11-py3-none-any.whl.metadata (1.8 kB)\n",
      "Requirement already satisfied: pydantic<3.0.0,>=2.7.4 in d:\\saltlux\\workspace_py\\kakao\\venv\\lib\\site-packages (from langchain<2.0.0,>=0.3.27->langchain-community) (2.11.10)\n",
      "Requirement already satisfied: jsonpatch<2.0.0,>=1.33.0 in d:\\saltlux\\workspace_py\\kakao\\venv\\lib\\site-packages (from langchain-core<2.0.0,>=0.3.75->langchain-community) (1.33)\n",
      "Requirement already satisfied: typing-extensions<5.0.0,>=4.7.0 in d:\\saltlux\\workspace_py\\kakao\\venv\\lib\\site-packages (from langchain-core<2.0.0,>=0.3.75->langchain-community) (4.15.0)\n",
      "Requirement already satisfied: packaging<26.0.0,>=23.2.0 in d:\\saltlux\\workspace_py\\kakao\\venv\\lib\\site-packages (from langchain-core<2.0.0,>=0.3.75->langchain-community) (25.0)\n",
      "Requirement already satisfied: httpx<1,>=0.23.0 in d:\\saltlux\\workspace_py\\kakao\\venv\\lib\\site-packages (from langsmith<1.0.0,>=0.1.125->langchain-community) (0.28.1)\n",
      "Requirement already satisfied: orjson>=3.9.14 in d:\\saltlux\\workspace_py\\kakao\\venv\\lib\\site-packages (from langsmith<1.0.0,>=0.1.125->langchain-community) (3.11.3)\n",
      "Requirement already satisfied: requests-toolbelt>=1.0.0 in d:\\saltlux\\workspace_py\\kakao\\venv\\lib\\site-packages (from langsmith<1.0.0,>=0.1.125->langchain-community) (1.0.0)\n",
      "Requirement already satisfied: zstandard>=0.23.0 in d:\\saltlux\\workspace_py\\kakao\\venv\\lib\\site-packages (from langsmith<1.0.0,>=0.1.125->langchain-community) (0.25.0)\n",
      "Requirement already satisfied: typing-inspection>=0.4.0 in d:\\saltlux\\workspace_py\\kakao\\venv\\lib\\site-packages (from pydantic-settings<3.0.0,>=2.10.1->langchain-community) (0.4.2)\n",
      "Requirement already satisfied: charset_normalizer<4,>=2 in d:\\saltlux\\workspace_py\\kakao\\venv\\lib\\site-packages (from requests<3.0.0,>=2.32.5->langchain-community) (3.4.3)\n",
      "Requirement already satisfied: idna<4,>=2.5 in d:\\saltlux\\workspace_py\\kakao\\venv\\lib\\site-packages (from requests<3.0.0,>=2.32.5->langchain-community) (3.10)\n",
      "Requirement already satisfied: urllib3<3,>=1.21.1 in d:\\saltlux\\workspace_py\\kakao\\venv\\lib\\site-packages (from requests<3.0.0,>=2.32.5->langchain-community) (2.5.0)\n",
      "Requirement already satisfied: certifi>=2017.4.17 in d:\\saltlux\\workspace_py\\kakao\\venv\\lib\\site-packages (from requests<3.0.0,>=2.32.5->langchain-community) (2025.10.5)\n",
      "Collecting greenlet>=1 (from SQLAlchemy<3.0.0,>=1.4.0->langchain-community)\n",
      "  Using cached greenlet-3.2.4-cp313-cp313-win_amd64.whl.metadata (4.2 kB)\n",
      "Requirement already satisfied: anyio in d:\\saltlux\\workspace_py\\kakao\\venv\\lib\\site-packages (from httpx<1,>=0.23.0->langsmith<1.0.0,>=0.1.125->langchain-community) (4.11.0)\n",
      "Requirement already satisfied: httpcore==1.* in d:\\saltlux\\workspace_py\\kakao\\venv\\lib\\site-packages (from httpx<1,>=0.23.0->langsmith<1.0.0,>=0.1.125->langchain-community) (1.0.9)\n",
      "Requirement already satisfied: h11>=0.16 in d:\\saltlux\\workspace_py\\kakao\\venv\\lib\\site-packages (from httpcore==1.*->httpx<1,>=0.23.0->langsmith<1.0.0,>=0.1.125->langchain-community) (0.16.0)\n",
      "Requirement already satisfied: jsonpointer>=1.9 in d:\\saltlux\\workspace_py\\kakao\\venv\\lib\\site-packages (from jsonpatch<2.0.0,>=1.33.0->langchain-core<2.0.0,>=0.3.75->langchain-community) (3.0.0)\n",
      "Requirement already satisfied: annotated-types>=0.6.0 in d:\\saltlux\\workspace_py\\kakao\\venv\\lib\\site-packages (from pydantic<3.0.0,>=2.7.4->langchain<2.0.0,>=0.3.27->langchain-community) (0.7.0)\n",
      "Requirement already satisfied: pydantic-core==2.33.2 in d:\\saltlux\\workspace_py\\kakao\\venv\\lib\\site-packages (from pydantic<3.0.0,>=2.7.4->langchain<2.0.0,>=0.3.27->langchain-community) (2.33.2)\n",
      "Collecting mypy-extensions>=0.3.0 (from typing-inspect<1,>=0.4.0->dataclasses-json<0.7.0,>=0.6.7->langchain-community)\n",
      "  Using cached mypy_extensions-1.1.0-py3-none-any.whl.metadata (1.1 kB)\n",
      "Requirement already satisfied: sniffio>=1.1 in d:\\saltlux\\workspace_py\\kakao\\venv\\lib\\site-packages (from anyio->httpx<1,>=0.23.0->langsmith<1.0.0,>=0.1.125->langchain-community) (1.3.1)\n",
      "Using cached langchain_community-0.3.30-py3-none-any.whl (2.5 MB)\n",
      "Using cached aiohttp-3.12.15-cp313-cp313-win_amd64.whl (449 kB)\n",
      "Using cached dataclasses_json-0.6.7-py3-none-any.whl (28 kB)\n",
      "Using cached httpx_sse-0.4.1-py3-none-any.whl (8.1 kB)\n",
      "Using cached langchain-0.3.27-py3-none-any.whl (1.0 MB)\n",
      "Downloading numpy-2.3.3-cp313-cp313-win_amd64.whl (12.8 MB)\n",
      "   ---------------------------------------- 0.0/12.8 MB ? eta -:--:--\n",
      "   ------- -------------------------------- 2.4/12.8 MB 12.4 MB/s eta 0:00:01\n",
      "   --------------- ------------------------ 5.0/12.8 MB 12.3 MB/s eta 0:00:01\n",
      "   ---------------------- ----------------- 7.3/12.8 MB 12.3 MB/s eta 0:00:01\n",
      "   ------------------------------- -------- 10.0/12.8 MB 12.3 MB/s eta 0:00:01\n",
      "   -------------------------------------- - 12.3/12.8 MB 12.2 MB/s eta 0:00:01\n",
      "   ---------------------------------------- 12.8/12.8 MB 11.9 MB/s eta 0:00:00\n",
      "Using cached pydantic_settings-2.11.0-py3-none-any.whl (48 kB)\n",
      "Using cached sqlalchemy-2.0.43-cp313-cp313-win_amd64.whl (2.1 MB)\n",
      "Using cached aiohappyeyeballs-2.6.1-py3-none-any.whl (15 kB)\n",
      "Using cached aiosignal-1.4.0-py3-none-any.whl (7.5 kB)\n",
      "Using cached attrs-25.3.0-py3-none-any.whl (63 kB)\n",
      "Using cached frozenlist-1.7.0-cp313-cp313-win_amd64.whl (43 kB)\n",
      "Using cached greenlet-3.2.4-cp313-cp313-win_amd64.whl (299 kB)\n",
      "Using cached langchain_text_splitters-0.3.11-py3-none-any.whl (33 kB)\n",
      "Using cached marshmallow-3.26.1-py3-none-any.whl (50 kB)\n",
      "Using cached multidict-6.6.4-cp313-cp313-win_amd64.whl (45 kB)\n",
      "Downloading propcache-0.4.0-cp313-cp313-win_amd64.whl (40 kB)\n",
      "Using cached typing_inspect-0.9.0-py3-none-any.whl (8.8 kB)\n",
      "Downloading yarl-1.21.0-cp313-cp313-win_amd64.whl (86 kB)\n",
      "Using cached mypy_extensions-1.1.0-py3-none-any.whl (5.0 kB)\n",
      "Installing collected packages: propcache, numpy, mypy-extensions, multidict, marshmallow, httpx-sse, greenlet, frozenlist, attrs, aiohappyeyeballs, yarl, typing-inspect, SQLAlchemy, aiosignal, pydantic-settings, dataclasses-json, aiohttp, langchain-text-splitters, langchain, langchain-community\n",
      "Successfully installed SQLAlchemy-2.0.43 aiohappyeyeballs-2.6.1 aiohttp-3.12.15 aiosignal-1.4.0 attrs-25.3.0 dataclasses-json-0.6.7 frozenlist-1.7.0 greenlet-3.2.4 httpx-sse-0.4.1 langchain-0.3.27 langchain-community-0.3.30 langchain-text-splitters-0.3.11 marshmallow-3.26.1 multidict-6.6.4 mypy-extensions-1.1.0 numpy-2.3.3 propcache-0.4.0 pydantic-settings-2.11.0 typing-inspect-0.9.0 yarl-1.21.0\n",
      "Note: you may need to restart the kernel to use updated packages.\n"
     ]
    },
    {
     "name": "stderr",
     "output_type": "stream",
     "text": [
      "\n",
      "[notice] A new release of pip is available: 24.3.1 -> 25.2\n",
      "[notice] To update, run: python.exe -m pip install --upgrade pip\n"
     ]
    }
   ],
   "source": [
    "# Upstage\n",
    "%pip install python-dotenv langchain-community \n"
   ]
  },
  {
   "cell_type": "code",
   "execution_count": 4,
   "id": "4b4e767d",
   "metadata": {},
   "outputs": [
    {
     "name": "stdout",
     "output_type": "stream",
     "text": [
      "Requirement already satisfied: python-dotenv in d:\\saltlux\\workspace_py\\kakao\\venv\\lib\\site-packages (1.1.1)\n",
      "Requirement already satisfied: ollama in d:\\saltlux\\workspace_py\\kakao\\venv\\lib\\site-packages (0.6.0)\n",
      "Collecting langchain-ollama\n",
      "  Downloading langchain_ollama-0.3.10-py3-none-any.whl.metadata (2.1 kB)\n",
      "Requirement already satisfied: httpx>=0.27 in d:\\saltlux\\workspace_py\\kakao\\venv\\lib\\site-packages (from ollama) (0.28.1)\n",
      "Requirement already satisfied: pydantic>=2.9 in d:\\saltlux\\workspace_py\\kakao\\venv\\lib\\site-packages (from ollama) (2.11.10)\n",
      "Requirement already satisfied: langchain-core<2.0.0,>=0.3.76 in d:\\saltlux\\workspace_py\\kakao\\venv\\lib\\site-packages (from langchain-ollama) (0.3.78)\n",
      "Requirement already satisfied: anyio in d:\\saltlux\\workspace_py\\kakao\\venv\\lib\\site-packages (from httpx>=0.27->ollama) (4.11.0)\n",
      "Requirement already satisfied: certifi in d:\\saltlux\\workspace_py\\kakao\\venv\\lib\\site-packages (from httpx>=0.27->ollama) (2025.10.5)\n",
      "Requirement already satisfied: httpcore==1.* in d:\\saltlux\\workspace_py\\kakao\\venv\\lib\\site-packages (from httpx>=0.27->ollama) (1.0.9)\n",
      "Requirement already satisfied: idna in d:\\saltlux\\workspace_py\\kakao\\venv\\lib\\site-packages (from httpx>=0.27->ollama) (3.10)\n",
      "Requirement already satisfied: h11>=0.16 in d:\\saltlux\\workspace_py\\kakao\\venv\\lib\\site-packages (from httpcore==1.*->httpx>=0.27->ollama) (0.16.0)\n",
      "Requirement already satisfied: langsmith<1.0.0,>=0.3.45 in d:\\saltlux\\workspace_py\\kakao\\venv\\lib\\site-packages (from langchain-core<2.0.0,>=0.3.76->langchain-ollama) (0.4.32)\n",
      "Requirement already satisfied: tenacity!=8.4.0,<10.0.0,>=8.1.0 in d:\\saltlux\\workspace_py\\kakao\\venv\\lib\\site-packages (from langchain-core<2.0.0,>=0.3.76->langchain-ollama) (9.1.2)\n",
      "Requirement already satisfied: jsonpatch<2.0.0,>=1.33.0 in d:\\saltlux\\workspace_py\\kakao\\venv\\lib\\site-packages (from langchain-core<2.0.0,>=0.3.76->langchain-ollama) (1.33)\n",
      "Requirement already satisfied: PyYAML<7.0.0,>=5.3.0 in d:\\saltlux\\workspace_py\\kakao\\venv\\lib\\site-packages (from langchain-core<2.0.0,>=0.3.76->langchain-ollama) (6.0.3)\n",
      "Requirement already satisfied: typing-extensions<5.0.0,>=4.7.0 in d:\\saltlux\\workspace_py\\kakao\\venv\\lib\\site-packages (from langchain-core<2.0.0,>=0.3.76->langchain-ollama) (4.15.0)\n",
      "Requirement already satisfied: packaging<26.0.0,>=23.2.0 in d:\\saltlux\\workspace_py\\kakao\\venv\\lib\\site-packages (from langchain-core<2.0.0,>=0.3.76->langchain-ollama) (25.0)\n",
      "Requirement already satisfied: annotated-types>=0.6.0 in d:\\saltlux\\workspace_py\\kakao\\venv\\lib\\site-packages (from pydantic>=2.9->ollama) (0.7.0)\n",
      "Requirement already satisfied: pydantic-core==2.33.2 in d:\\saltlux\\workspace_py\\kakao\\venv\\lib\\site-packages (from pydantic>=2.9->ollama) (2.33.2)\n",
      "Requirement already satisfied: typing-inspection>=0.4.0 in d:\\saltlux\\workspace_py\\kakao\\venv\\lib\\site-packages (from pydantic>=2.9->ollama) (0.4.2)\n",
      "Requirement already satisfied: jsonpointer>=1.9 in d:\\saltlux\\workspace_py\\kakao\\venv\\lib\\site-packages (from jsonpatch<2.0.0,>=1.33.0->langchain-core<2.0.0,>=0.3.76->langchain-ollama) (3.0.0)\n",
      "Requirement already satisfied: orjson>=3.9.14 in d:\\saltlux\\workspace_py\\kakao\\venv\\lib\\site-packages (from langsmith<1.0.0,>=0.3.45->langchain-core<2.0.0,>=0.3.76->langchain-ollama) (3.11.3)\n",
      "Requirement already satisfied: requests-toolbelt>=1.0.0 in d:\\saltlux\\workspace_py\\kakao\\venv\\lib\\site-packages (from langsmith<1.0.0,>=0.3.45->langchain-core<2.0.0,>=0.3.76->langchain-ollama) (1.0.0)\n",
      "Requirement already satisfied: requests>=2.0.0 in d:\\saltlux\\workspace_py\\kakao\\venv\\lib\\site-packages (from langsmith<1.0.0,>=0.3.45->langchain-core<2.0.0,>=0.3.76->langchain-ollama) (2.32.5)\n",
      "Requirement already satisfied: zstandard>=0.23.0 in d:\\saltlux\\workspace_py\\kakao\\venv\\lib\\site-packages (from langsmith<1.0.0,>=0.3.45->langchain-core<2.0.0,>=0.3.76->langchain-ollama) (0.25.0)\n",
      "Requirement already satisfied: sniffio>=1.1 in d:\\saltlux\\workspace_py\\kakao\\venv\\lib\\site-packages (from anyio->httpx>=0.27->ollama) (1.3.1)\n",
      "Requirement already satisfied: charset_normalizer<4,>=2 in d:\\saltlux\\workspace_py\\kakao\\venv\\lib\\site-packages (from requests>=2.0.0->langsmith<1.0.0,>=0.3.45->langchain-core<2.0.0,>=0.3.76->langchain-ollama) (3.4.3)\n",
      "Requirement already satisfied: urllib3<3,>=1.21.1 in d:\\saltlux\\workspace_py\\kakao\\venv\\lib\\site-packages (from requests>=2.0.0->langsmith<1.0.0,>=0.3.45->langchain-core<2.0.0,>=0.3.76->langchain-ollama) (2.5.0)\n",
      "Downloading langchain_ollama-0.3.10-py3-none-any.whl (27 kB)\n",
      "Installing collected packages: langchain-ollama\n",
      "Successfully installed langchain-ollama-0.3.10\n",
      "Note: you may need to restart the kernel to use updated packages.\n"
     ]
    },
    {
     "name": "stderr",
     "output_type": "stream",
     "text": [
      "\n",
      "[notice] A new release of pip is available: 24.3.1 -> 25.2\n",
      "[notice] To update, run: python.exe -m pip install --upgrade pip\n"
     ]
    }
   ],
   "source": [
    "%pip install python-dotenv ollama langchain-ollama"
   ]
  },
  {
   "cell_type": "code",
   "execution_count": 7,
   "id": "ab3cec06",
   "metadata": {},
   "outputs": [
    {
     "data": {
      "text/plain": [
       "'Coursera에서 현재 인기 있는 강의 3개를 소개해 드립니다. (2024년 5월 16일 기준)\\n\\n1.  **Machine Learning (앤드류 응)**: 스탠포드 대학교에서 제공하는 이 강의는 머신러닝의 기본 원리를 다루며, 다양한 알고리즘과 실습을 통해 실질적인 기술을 습득할 수 있습니다. 데이터 과학 분야에서 가장 인기 있는 강의 중 하나입니다.\\n    *   [https://www.coursera.org/learn/machine-learning](https://www.coursera.org/learn/machine-learning)\\n\\n2.  **Google Data Analytics Professional Certificate**: 구글에서 제공하는 이 인증 과정은 데이터 분석 기술을 배우고자 하는 사람들을 위한 것입니다. SQL, R, Excel 등 데이터 분석 도구를 사용하고, 데이터 수집, 분석, 시각화 방법을 배울 수 있습니다.\\n    *   [https://www.coursera.org/professional-certificates/google-data-analytics](https://www.coursera.org/professional-certificates/google-data-analytics)\\n\\n3.  **The Science of Well-Being (유발 노ვა크)**: 옥스퍼드 대학교에서 제공하는 이 강의는 행복과 웰빙에 대한 과학적인 통찰력을 제공합니다. 심리학 연구를 바탕으로 행복을 증진하는 방법을 배울 수 있습니다.\\n    *   [https://www.coursera.org/learn/happiness](https://www.coursera.org/learn/happiness)\\n\\n**참고:** Coursera의 인기 강의는 지속적으로 변동될 수 있습니다. 최신 정보를 확인하려면 Coursera 웹사이트([https://www.coursera.org/](https://www.coursera.org/))를 방문해 보세요.\\n\\n궁금한 점이 있다면 언제든지 다시 질문해주세요.'"
      ]
     },
     "execution_count": 7,
     "metadata": {},
     "output_type": "execute_result"
    }
   ],
   "source": [
    "# 주의 langchain 0.3 버전에선 ollama 를 모듈로 지원하지 않음. langchain-ollama 로 pip 설치.\n",
    "from langchain_ollama import ChatOllama\n",
    "\n",
    "llm = ChatOllama(\n",
    "    model=\"gemma3\"\n",
    ")\n",
    "\n",
    "ai_message = llm.invoke(\"coursera에 인기강의 3개 보여주세요.\")\n",
    "\n",
    "# 1차시 - 3m30s\n",
    "#'Coursera에서 인기 있는 강의는 시점에 따라 조금씩 변동될 수 있지만, 현재 (2024년 5월 16일) 기준으로 인기 있는 강의 3개를 소개해 드립니다.\\n\\n**1. 인공지능 (Artificial Intelligence) - 존 홉스 (John Hopkins)**\\n\\n*   **설명:** 이 강의는 인공지능의 기본 개념과 핵심 기술을 다룹니다. 머신러닝, 딥러닝, 자연어 처리 등 다양한 분야를 학습하고, 실제 프로젝트를 통해 실력을 향상시킬 수 있습니다.\\n*   **언어:** 영어\\n*   **수강료:** 무료 (Certificate 취득 시 유료)\\n*   **링크:** [https://www.coursera.org/learn/artificial-intelligence](https://www.coursera.org/learn/artificial-intelligence)\\n\\n**2. 데이터 과학 개론 (Introduction to Data Science)**\\n\\n*   **설명:** 데이터 과학의 핵심 원리와 방법론을 배우고, 데이터 분석 도구 (Python, R 등)를 활용하여 데이터를 분석하고 시각화하는 방법을 익힙니다.\\n*   **언어:** 영어\\n*   **수강료:** 무료 (Certificate 취득 시 유료)\\n*   **링크:** [https://www.coursera.org/learn/data-science](https://www.coursera.org/learn/data-science)\\n\\n**3. 뇌 과학 (Brain Science) - 앤드류 호지스 (Andrew Hodges)**\\n\\n*   **설명:** 이 강의는 뇌 과학의 기본 원리를 배우고 인간의 사고, 감정, 행동에 대한 깊이 있는 이해를 얻을 수 있습니다. 앨런 튜링의 삶과 업적을 통해 뇌 과학의 중요성을 강조합니다.\\n*   **언어:** 영어\\n*   **수강료:** 무료 (Certificate 취득 시 유료)\\n*   **링크:** [https://www.coursera.org/learn/brain-science](https://www.coursera.org/learn/brain-science)\\n\\n**참고:**\\n\\n*   Coursera는 다양한 분야의 강의를 제공하고 있으며, 수강료는 강의마다 다릅니다. 무료 강의도 많지만, Certificate를 취득하려면 유료로 등록해야 합니다.\\n*   Coursera 웹사이트 ([https://www.coursera.org/](https://www.coursera.org/))에서 더 많은 강의를 확인하고 수강료, 강의 내용, 수강 후기 등을 확인하는 것이 좋습니다.\\n\\n**추가적으로 관심 있는 분야나 배우고 싶은 주제를 알려주시면, 더 맞춤화된 강의를 추천해 드릴 수 있습니다.** 예를 들어, \"프로그래밍\", \"마케팅\", \"미술\", \"음악\" 등의 분야를 말씀해 주세요.'\n",
    "ai_message.content\n",
    "\n"
   ]
  },
  {
   "cell_type": "code",
   "execution_count": null,
   "id": "e8fdd2cd",
   "metadata": {},
   "outputs": [
    {
     "name": "stdout",
     "output_type": "stream",
     "text": [
      "Note: you may need to restart the kernel to use updated packages.\n"
     ]
    },
    {
     "name": "stderr",
     "output_type": "stream",
     "text": [
      "\n",
      "[notice] A new release of pip is available: 24.3.1 -> 25.2\n",
      "[notice] To update, run: python.exe -m pip install --upgrade pip\n"
     ]
    },
    {
     "name": "stdout",
     "output_type": "stream",
     "text": [
      "Note: you may need to restart the kernel to use updated packages.\n"
     ]
    },
    {
     "name": "stderr",
     "output_type": "stream",
     "text": [
      "\n",
      "[notice] A new release of pip is available: 24.3.1 -> 25.2\n",
      "[notice] To update, run: python.exe -m pip install --upgrade pip\n"
     ]
    }
   ],
   "source": [
    "# 문서내용을 읽고 쪼갠다.\n",
    "#  - 토큰수 초과로 답변 생성 못할수 있고, \n",
    "#  - 문서가 길면 답변 생성이 오래걸림\n",
    "# 임베딩 -> 벡터DB 저장\n",
    "# 질문 -> 벡터DB 유사도 검색\n",
    "# 유사도 검색으로 가져온 문서를 LLM에 질문과 같이 저장.\n",
    "\n",
    "# 아래는 docx 를 txt로 추출하는 라이브러리.\n",
    "%pip install --upgrade --quiet docx2txt\n",
    "\n",
    "# list 로 사용자가 구분자를 지정해서 문장을 나눌수가 있음. default: [\\n\\n, \\n, \" \", \"\"]\n",
    "%pip install -qU langchain-text-splitters\n"
   ]
  },
  {
   "cell_type": "code",
   "execution_count": 7,
   "id": "afdfb50f",
   "metadata": {},
   "outputs": [
    {
     "data": {
      "text/plain": [
       "[Document(metadata={'source': './data/law.docx'}, page_content='원자력안전법\\n\\n원자력안전법\\n\\n\\n\\n원자력안전법\\n\\n원자력안전법\\n\\n\\n\\n원자력안전법\\n\\n[시행 2020. 6. 9] [법률 제17359호, 2020. 6. 9, 타법개정]\\n\\n원자력안전위원회(안전정책과)  02-397-7264\\n\\n원자력안전위원회(안전기준과)  02-397-7303\\n\\n원자력안전위원회(방사선안전과)  02-397-7337\\n\\n원자력안전위원회(생활방사선안전과)  02-397-7334\\n\\n제1장 총칙\\n\\n제1조(목적) 이 법은 원자력의 연구ㆍ개발ㆍ생산ㆍ이용 등에 따른 안전관리에 관한 사항을 규정하여 방사선에 의 한 재해의 방지와 공공의 안전을 도모함을 목적으로 한다. <개정 2014. 5. 21.>\\n\\n제2조(정의) 이 법에서 사용하는 용어의 뜻은 다음과 같다. <개정 2013. 3. 23., 2014. 5. 21., 2015. 1. 20., 2015.\\n\\n6. 22., 2015. 12. 22.>\\n\\n\\t\"원자력\"이란 원자핵 변화의 과정에 있어서 원자핵으로부터 방출되는 모든 종류의 에너지를 말한다.\\n\\n\\t\"핵물질\"이란 핵연료물질 및 핵원료물질을 말한다.\\n\\n\\t\"핵연료물질\"이란 우라늄ㆍ토륨 등 원자력을 발생할 수 있는 물질로서 대❹령령으로 정하는 것을 말한다.\\n\\n\\t\\t\"핵원료물질\"이란 우라늄광ㆍ토륨광과 그 밖의 핵연료물질의 원료가 되는 물질로서 대❹령령으로 정하는 것 을 말한다.\\n\\n\\t\\t\"방사성물질\"이란 핵연료물질ㆍ사용후핵연료ㆍ방사성동위원소 및 원자핵분열생성물(原子核分裂生成物)을 말 한다.\\n\\n\\t\"방사성동위원소\"란 방사선을 방출하는 동위원소와 그 화합물 중 대❹령령으로 정하는 것을 말한다.\\n\\n\\t\"방사선\"이란 전자파 또는 입자선 중 직접 또는 간접으로 공기를 전리(電離)하는 능력을 가진 것으로서 대\\n\\n❹령령으로 정하는 것을 말한다.\\n\\n\\t\"원자로\"란 핵연료물질을 연료로 사용하는 장치를 말한다. 다만, 대❹령령으로 정하는 것은 제외한다.\\n\\n\\t\\t\"방사선발생장치\"란 하전입자(荷電粒子)를 가속시켜 방사선을 발생시키는 장치로서 대❹령령으로 정하는 것 을 말한다.\\n\\n\\t\"관계시설\"이란 원자로의 안전에 관계되는 시설로서 대❹령령으로 정하는 것을 말한다.\\n\\n\\t\\t\"정련\"(精鍊)이란 핵원료물질에 포함된 우라늄 또는 토륨의 비율을 높이기 위하여 물리적ㆍ화학적 방법으 로 핵원료물질을 처리하는 것을 말한다.\\n\\n\\t\"변환\"이란 핵연료물질을 화학적 방법으로 처리하여 가공에 적합한 형태로 만드는 것을 말한다.\\n\\n\\t\\t\"가공\"이란 핵연료물질을 물리적ㆍ화학적 방법으로 처리하여 원자로의 연료로서 사용할 수 있는 형태로 만 드는 것을 말한다.\\n\\n\\t\\t\"사용후핵연료처리\"란 원자로의 연료로서 사용된 핵연료물질 또는 그 밖의 방법으로 원자핵분열을 시킨 핵 연료물질을 연구 또는 시험을 목적으로 취급하거나, 물리적ㆍ화학적 방법으로 처리하여 핵연료물질과 그 밖 의 물질로 분리하는 것을 말한다.\\n\\n\\t\"핵연료주기사업\"이란 정련ㆍ변환ㆍ가공 또는 사용후핵연료처리 사업을 말한다.\\n\\n\\t\\t\"방사선관리구역\"이란 외부의 방사선량율(放射線量率), 공기 중의 방사성물질의 농도 또는 방사성물질에 따라 오염된 물질의 표면의 오염도가 원자력안전위원회규칙으로 정하는 값을 초과할 우려가 있는 곳으로서 방사선의 안전관리를 위하여 사람의 출입을 관리하고 출입자에 대하여 방사선의 장해(障害)를 방지하기 위한 조치가 필요한 구역을 말한다.\\n\\n\\t\\t\"국제규제물자\"란 원자력의 연구ㆍ개발 및 이용에 관한 조약과 그 밖의 국제약속(이하 \"국제약속\"이라 한 다)에 따라 보장조치의 적용대상이 되는 물자로서 총리령으로 정하는 것을 말한다.\\n\\n\\t\\t\"방사성폐기물\"이란 방사성물질 또는 그에 따라 오염된 물질(이하 \"방사성물질등\"이라 한다)로서 폐기의 대상이 되는 물질(제35조제4항에 따라 폐기하기로 결정한 사용후핵연료를 포함한다)을 말한다.\\n\\n\\t\\t\"피폭방사선량\"(被曝放射線量)이란 사람의 신체의 외부 또는 내부에 피폭하는 방사선량을 말한다. 다만, 진 료를 위하여 피폭하는 방사선량과 인위적으로 증가시키지 아니하는 자연방사선량은 제외한다. 이 경우 방사 선량의 종류 및 적용기준은 원자력안전위원회가 정하여 고시한다.\\n\\n\\n\\n법제처\\n\\n-1 / 37 -\\n\\n국가법령정보센터\\n\\n법제처\\n\\n-1 / 37 -\\n\\n국가법령정보센터\\n\\n\\n\\n\\t\\t\"원자력이용시설\"이란 원자력의 연구ㆍ개발ㆍ생산ㆍ이용(이하 \"원자력이용\"이라 한다)과 관련된 시설로서 대❹령령으로 정하는 것을 말한다.\\n\\n\\t\"방사선작업종사자\"란 원자력이용시설의 운전ㆍ이용 또는 보전이나 방사성물질등의 사용ㆍ취급ㆍ저장ㆍ보\\n\\n관ㆍ처리ㆍ배출ㆍ처분ㆍ운반과 그 밖의 관리 또는 오염제거 등 방사선에 피폭하거나 그 염려가 있는 업무에 종사하는 자를 말한다.\\n\\n\\t\"안전관련설비\"란 원자로 및 관계시설 중에서 원자력안전위원회규칙으로 정하는 안전에 중요한 구조물ㆍ계\\n\\n❹ 및 기기로서 원자력안전위원회규칙으로 정하는 바에 따라 안전등급이 부여된 설비를 말한다.\\n\\n\\t\\t\"방사선투과검사\"란 「비파괴검사기술의 진흥 및 관리에 관한 법률」 제2조에 따른 비파괴검사 중 방사선 을 이용한 비파괴검사를 말한다.\\n\\n\\t\\t\"해체\"란 제20조제1항에 따라 허가를 받은 자, 제30조의2제1항에 따라 허가를 받은 자, 제35조제1항 및 제2항에 따라 허가 또는 지정을 받은 자가 이 법에 따라 허가 또는 지정을 받은 시설의 운영을 영구적으로 정지(이하 \"영구정지\"라 한다)한 후, 해당 시설과 부지를 철거하거나 방사성오염을 제거함으로써 이 법의 적 용대상에서 배제하기 위한 모든 활동을 말한다.\\n\\n24의2. \"폐쇄\"란 제63조에 따라 방사성폐기물 처분시설의 건설ㆍ운영 허가를 받은 자가 방사성폐기물을 처분 하는 활동을 완결하고 장기 안전성을 확보하기 위하여 실시하는 관리적ㆍ기술적 조치(방사성폐기물 처분시설 지하 공간의 뒷채움, 덮개 설치 등을 포함한다)를 말한다.\\n\\n\\t\"사고관리\"란 원자로시설에 사고가 발생하였을 때 사고가 확대되는 것을 방지하고 사고의 영향을 완화하며\\n\\n안전한 상태로 회복하기 위하여 취하는 제반조치를 말하며, 원자력안전위원회에서 정하는 설계기준을 초과하 여 노심의 현저한 손상을 초래하는 사고(이하 \"중대사고\"라 한다)에 대한 관리를 포함한다.\\n\\n제2조(정의) 이 법에서 사용하는 용어의 뜻은 다음과 같다. <개정 2013. 3. 23., 2014. 5. 21., 2015. 1. 20., 2015.\\n\\n6. 22., 2015. 12. 22., 2020. 12. 22.>\\n\\n\\t\"원자력\"이란 원자핵 변화의 과정에 있어서 원자핵으로부터 방출되는 모든 종류의 에너지를 말한다.\\n\\n\\t\"핵물질\"이란 핵연료물질 및 핵원료물질을 말한다.\\n\\n\\t\"핵연료물질\"이란 우라늄ㆍ토륨 등 원자력을 발생할 수 있는 물질로서 대❹령령으로 정하는 것을 말한다.\\n\\n\\t\\t\"핵원료물질\"이란 우라늄광ㆍ토륨광과 그 밖의 핵연료물질의 원료가 되는 물질로서 대❹령령으로 정하는 것 을 말한다.\\n\\n\\t\\t\"방사성물질\"이란 핵연료물질ㆍ사용후핵연료ㆍ방사성동위원소 및 원자핵분열생성물(原子核分裂生成物)을 말 한다.\\n\\n\\t\"방사성동위원소\"란 방사선을 방출하는 동위원소와 그 화합물 중 대❹령령으로 정하는 것을 말한다.\\n\\n\\t\"방사선\"이란 전자파 또는 입자선 중 직접 또는 간접으로 공기를 전리(電離)하는 능력을 가진 것으로서 대\\n\\n❹령령으로 정하는 것을 말한다.\\n\\n\\t\"원자로\"란 핵연료물질을 연료로 사용하는 장치를 말한다. 다만, 대❹령령으로 정하는 것은 제외한다.\\n\\n\\t\\t\"방사선발생장치\"란 하전입자(荷電粒子)를 가속시켜 방사선을 발생시키는 장치로서 대❹령령으로 정하는 것 을 말한다.\\n\\n\\t\"관계시설\"이란 원자로의 안전에 관계되는 시설로서 대❹령령으로 정하는 것을 말한다.\\n\\n\\t\\t\"정련\"(精鍊)이란 핵원료물질에 포함된 우라늄 또는 토륨의 비율을 높이기 위하여 물리적ㆍ화학적 방법으 로 핵원료물질을 처리하는 것을 말한다.\\n\\n\\t\"변환\"이란 핵연료물질을 화학적 방법으로 처리하여 가공에 적합한 형태로 만드는 것을 말한다.\\n\\n\\t\\t\"가공\"이란 핵연료물질을 물리적ㆍ화학적 방법으로 처리하여 원자로의 연료로서 사용할 수 있는 형태로 만 드는 것을 말한다.\\n\\n\\t\\t\"사용후핵연료처리\"란 원자로의 연료로서 사용된 핵연료물질 또는 그 밖의 방법으로 원자핵분열을 시킨 핵 연료물질을 연구 또는 시험을 목적으로 취급하거나, 물리적ㆍ화학적 방법으로 처리하여 핵연료물질과 그 밖 의 물질로 분리하는 것을 말한다.\\n\\n\\t\"핵연료주기사업\"이란 정련ㆍ변환ㆍ가공 또는 사용후핵연료처리 사업을 말한다.\\n\\n\\t\\t\"방사선관리구역\"이란 외부의 방사선량율(放射線量率), 공기 중의 방사성물질의 농도 또는 방사성물질에 따라 오염된 물질의 표면의 오염도가 원자력안전위원회규칙으로 정하는 값을 초과할 우려가 있는 곳으로서 방사선의 안전관리를 위하여 사람의 출입을 관리하고 출입자에 대하여 방사선의 장해(障害)를 방지하기 위한 조치가 필요한 구역을 말한다.\\n\\n\\t\\t\"국제규제물자\"란 원자력의 연구ㆍ개발 및 이용에 관한 조약과 그 밖의 국제약속(이하 \"국제약속\"이라 한 다)에 따라 보장조치의 적용대상이 되는 물자로서 총리령으로 정하는 것을 말한다.\\n\\n\\t\"방사성폐기물\"이란 방사성물질 또는 그에 따라 오염된 물질(이하 \"방사성물질등\"이라 한다)로서 폐기의\\n\\n\\n\\n대상이 되는 물질(제35조제4항에 따라 폐기하기로 결정한 사용후핵연료를 포함한다)을 말한다.\\n\\n\\t\\t\"피폭방사선량\"(被曝放射線量)이란 사람의 신체의 외부 또는 내부에 피폭하는 방사선량을 말한다. 다만, 진 료를 위하여 피폭하는 방사선량과 인위적으로 증가시키지 아니하는 자연방사선량은 제외한다. 이 경우 방사 선량의 종류 및 적용기준은 원자력안전위원회가 정하여 고시한다.\\n\\n\\t\"원자력이용시설\"이란 원자력의 연구ㆍ개발ㆍ생산ㆍ이용(이하 \"원자력이용\"이라 한다)과 관련된 시설로서\\n\\n대❹령령으로 정하는 것을 말한다.\\n\\n\\t\\t\"방사선작업종사자\"란 원자력이용시설의 운전ㆍ이용 또는 보전이나 방사성물질등의 사용ㆍ취급ㆍ저장ㆍ보 관ㆍ처리ㆍ배출ㆍ처분ㆍ운반과 그 밖의 관리 또는 오염제거 등 방사선에 피폭하거나 그 염려가 있는 업무에 종사하는 자를 말한다.\\n\\n\\t\"안전관련설비\"란 원자로 및 관계시설 중에서 원자력안전위원회규칙으로 정하는 안전에 중요한 구조물ㆍ계\\n\\n❹ 및 기기로서 원자력안전위원회규칙으로 정하는 바에 따라 안전등급이 부여된 설비를 말한다.\\n\\n\\t\\t\"방사선투과검사\"란 「비파괴검사기술의 진흥 및 관리에 관한 법률」 제2조에 따른 비파괴검사 중 방사선 을 이용한 비파괴검사를 말한다.\\n\\n\\t\\t\"해체\"란 제20조제1항에 따라 허가를 받은 자, 제30조의2제1항에 따라 허가를 받은 자, 제35조제1항 및 제2항에 따라 허가 또는 지정을 받은 자, 제63조제1항에 따라 건설ㆍ운영 허가를 받은 자가 이 법에 따라 허가 또는 지정을 받은 시설의 운영을 영구적으로 정지(이하 \"영구정지\"라 한다)한 후, 해당 시설과 부지를 철거하거나 방사성오염을 제거함으로써 이 법의 적용대상에서 배제하기 위한 모든 활동을 말한다.\\n\\n24의2. \"폐쇄\"란 제63조에 따라 방사성폐기물 처분시설 및 그 부속시설의 건설ㆍ운영 허가를 받은 자가 방사 성폐기물을 처분하는 활동을 완결하고 장기 안전성을 확보하기 위하여 실시하는 관리적ㆍ기술적 조치(방사성 폐기물 처분시설 지하 공간의 뒷채움, 덮개 설치 등을 포함한다)를 말한다.\\n\\n\\t\"사고관리\"란 원자로시설에 사고가 발생하였을 때 사고가 확대되는 것을 방지하고 사고의 영향을 완화하며\\n\\n안전한 상태로 회복하기 위하여 취하는 제반조치를 말하며, 원자력안전위원회에서 정하는 설계기준을 초과하 여 노심의 현저한 손상을 초래하는 사고(이하 \"중대사고\"라 한다)에 대한 관리를 포함한다.\\n\\n[시행일 : 2021. 6. 23.] 제2조\\n\\n제2조의2(원자력안전관리의 기본원칙) 원자력의 연구ㆍ개발ㆍ생산ㆍ이용 등에 따른 안전관리(이하 \"원자력안전관 리\"라 한다)는 다음 각 호의 원칙에 따라 추진하여야 한다.\\n\\n\\t「원자력안전협약」 등 국제규범에 따른 원칙을 준수할 것\\n\\n\\t방사선장해로부터 국민안전과 환경을 보호하는 데에 기여할 것\\n\\n\\t과학기술의 발전수준을 반영하여 안전기준을 설정할 것\\n\\n[본조신설 2015. 12. 22.]\\n\\n제2장 원자력안전종합계획의 수립ㆍ시행 등\\n\\n제3조(원자력안전종합계획의 수립) ① 「원자력안전위원회의 설치 및 운영에 관한 법률」 제3조에 따른 원자력 안전위원회(이하 \"위원회\"라 한다)는 원자력이용에 따른 안전관리(이하 \"원자력안전관리\"라 한다)를 위하여 5 년마다 원자력안전종합계획(이하 \"종합계획\"이라 한다)을 수립하여야 한다.\\n\\n② 종합계획에는 다음 각 호의 사항이 포함되어야 한다.\\n\\n\\t원자력안전관리에 관한 현황과 전망에 관한 사항\\n\\n\\t원자력안전관리에 관한 정책목표와 기본방향에 관한 사항\\n\\n\\t부문별 과제 및 그 추진에 관한 사항\\n\\n\\t소요재원의 투자계획 및 조달에 관한 사항\\n\\n\\t그 밖에 원자력안전관리를 위하여 필요한 사항\\n\\n③ 위원회는 종합계획을 수립하려면 미리 관계 부처의 장과 협의하여야 한다. 수립된 종합계획을 변경하려는 때에도 또한 같다.\\n\\n④ 종합계획의 수립 및 변경은 위원회의 심의ㆍ의결을 거쳐 확정한다. 다만, 대❹령령으로 정하는 경미한 사항\\n\\n의 변경은 그러하지 아니하다.\\n\\n⑤ 위원회는 종합계획의 수립을 위하여 필요하다고 인정하면 관계 기관의 장에게 종합계획의 수립에 필요한 자 료의 제출을 요구할 수 있다.\\n\\n제4조(종합계획의 시행) ① 위원회는 제3조제4항에 따라 확정된 종합계획을 관계 부처의 장에게 ❹보하여야 하 며, 위원회와 관계 부처의 장은 종합계획에 따라 소관 사항에 대하여 5년마다 부문별 시행계획을 수립하고, 부 문별 시행계획에 따라 연도별 세부사업추진계획을 수립ㆍ시행하여야 한다.\\n\\n\\n\\n② 위원회와 관계 부처의 장은 제1항에 따른 부문별 시행계획을 수립하는 때에는 필요하면 다른 관계 부처의 장과 협의를 거쳐 부문별 시행계획을 확정하고, 관계 부처의 장은 확정된 부문별 시행계획을 위원회에 ❹보하 여야 한다.\\n\\n제5조(원자력안전전문기관) ① 위원회의 감독하에 원자력안전관리에 관한 사항을 전문적으로 수행하기 위하여 원 자력안전전문기관을 둘 수 있다.\\n\\n② 제1항에 따른 원자력안전전문기관의 설치ㆍ운영에 관한 사항은 따로 법률로 정한다.\\n\\n제6조(한국원자력통제기술원의 설립) ① 원자력 관련 시설 및 핵물질 등에 관한 안전조치와 수출입❹제 등(이하 \"원자력❹제\"라 한다)의 업무를 효율적으로 추진하기 위하여 한국원자력❹제기술원(이하 \"❹제기술원\"이라 한 다)을 설립한다.\\n\\n② ❹제기술원은 법인으로 한다.\\n\\n③ ❹제기술원은 그 주된 사무소가 있는 곳에서 설립등기를 함으로써 성립한다.\\n\\n④ ❹제기술원은 그 정관을 변경하고자 할 때에는 위원회의 인가를 받아야 한다.\\n\\n⑤ ❹제기술원에 임원으로서 이사장과 원장 각 1명을 포함한 11명 이내의 이사와 감사 1명을 두며, 임원은 정 관으로 정하는 바에 따라 이사회에서 선임하되, 위원회의 승인을 받아야 한다.\\n\\n⑥ ❹제기술원의 중요 사항을 심의ㆍ의결하기 위하여 ❹제기술원에 이사회를 둔다.\\n\\n⑦ 원장은 ❹제기술원을 대표하고, ❹제기술원의 업무를 총괄하며, 소속 직원을 지휘ㆍ감독한다.\\n\\n⑧ 정부는 예산의 범위에서 ❹제기술원의 설립 및 운영에 필요한 경비를 출연할 수 있다.\\n\\n⑨ ❹제기술원에 관하여 이 법에서 정하는 것을 제외하고는 「민법」 중 재단법인에 관한 규정을 준용한다.\\n\\n제7조(통제기술원의 사업) ❹제기술원은 다음 각 호의 사업을 수행한다.\\n\\n\\t\\t제111조제1항에 따라 위원회로부터 위탁받은 원자력 관련 시설ㆍ장비ㆍ기술ㆍ연구개발활동 및 핵물질에 관 한 안전조치 관련 업무\\n\\n\\t제111조제1항에 따라 위원회로부터 위탁받은 핵물질 등 국제규제물자에 관한 수출입❹제 관련 업무\\n\\n\\t\\t「원자력시설 등의 방호 및 방사능 방재 대책법」 제45조제1항에 따라 위원회로부터 위탁받은 물리적방호 관련 업무\\n\\n\\t원자력❹제에 관한 연구 및 기술개발\\n\\n\\t원자력❹제에 관한 국제협력 지원\\n\\n\\t원자력❹제에 관한 교육\\n\\n\\t그 밖에 원자력❹제 업무의 수행을 위하여 필요한 사항\\n\\n제7조의2(한국원자력안전재단의 설립) ① 원자력 및 방사선 안전기반 조성 활동을 효율적으로 지원하기 위하여 한국원자력안전재단(이하 \"안전재단\"이라 한다)을 설립한다.\\n\\n② 안전재단은 다음 각 호의 사업을 수행한다.\\n\\n\\t위원회의 원자력안전 정책수립 지원을 위한 기초자료 조사ㆍ연구\\n\\n\\t제8조제1항에 따른 실태조사\\n\\n\\t제9조제1항에 따른 원자력안전연구개발사업의 기획, 관리 및 평가\\n\\n\\t제106조에 따른 방사선작업종사자에 대한 교육 및 훈련\\n\\n\\t제107조의2에 따른 국제협력 지원\\n\\n\\t이 법 또는 다른 법령에 따라 위탁받은 업무 및 그 밖에 위원회에서 필요하다고 인정하는 사업\\n\\n③ 안전재단은 법인으로 한다.\\n\\n④ 안전재단은 그 주된 사무소가 있는 곳에서 설립등기를 함으로써 성립한다.\\n\\n⑤ 안전재단이 정관을 제정하거나 변경하고자 하는 때에는 위원회의 인가를 받아야 한다.\\n\\n⑥ 안전재단의 중요 사항을 심의ㆍ의결하기 위하여 안전재단에 이사회를 둔다.\\n\\n⑦ 안전재단에 임원으로서 이사장 1명을 포함한 11명 이내의 이사와 감사 1명을 두며 임원은 정관으로 정하는 바에 따라 이사회에서 선임하되, 위원회의 승인을 받아야 한다.\\n\\n⑧ 위원회는 예산의 범위에서 안전재단의 운영에 필요한 경비를 출연할 수 있다.\\n\\n⑨ 안전재단에 관하여 이 법에 정하는 것을 제외하고는 「민법」 중 재단법인에 관한 규정을 준용한다.\\n\\n[본조신설 2015. 12. 22.]\\n\\n제8조(실태조사) ① 위원회는 원자력안전정책을 효율적으로 추진하기 위하여 원자력안전에 관한 실태조사를 실시 하여야 한다. 이 경우 위원회는 대❹령령으로 정하는 기관 또는 단체로 하여금 실태조사를 실시하게 할 수 있 다.\\n\\n\\n\\n② 위원회는 제1항에 따른 실태조사를 위하여 필요하다고 인정하면 원자력 관련 기업ㆍ교육기관ㆍ연구기관과 그 밖의 원자력 관련 기관에게 자료의 제출이나 의견의 진술 등을 요구할 수 있다.\\n\\n제9조(원자력안전연구개발사업의 추진 등) ① 위원회는 제4조제1항에 따라 수립된 부문별 시행계획에 따라 원자 력안전연구개발사업계획을 수립하고, 이를 효율적으로 추진하기 위하여 매년 연구개발과제를 선정하여 다음 각 호의 기관 또는 단체와 협약을 맺어 연구개발하게 할 수 있다.\\n\\n\\t제5조에 따라 설립된 기관\\n\\n\\t❹제기술원\\n\\n\\t「기초연구진흥 및 기술개발지원에 관한 법률」 제14조제1항 각 호의 기관 또는 단체\\n\\n② 제1항에 따른 원자력안전연구개발사업을 실시하는 데에 드는 비용은 다음 각 호의 재원으로 충당한다. <개 정 2015. 6. 22.>\\n\\n\\t정부의 출연금\\n\\n\\t「원자력 진흥법」 제17조제2항에 따른 원자력기금의 원자력안전규제계정\\n\\n\\t원자력안전연구개발사업의 실시과정에서 발생한 잔액과 그 밖의 수입금\\n\\n③ 제1항에 따른 원자력안전연구개발사업의 실시와 제2항에 따른 비용의 운용에 필요한 사항은 대❹령령으로 정한다.\\n\\n제3장 원자로 및 관계시설의 건설ㆍ운영 제1절 발전용원자로 및 관계시설의 건설\\n\\n제10조(건설허가) ① 발전용원자로 및 관계시설을 건설하려는 자는 대❹령령으로 정하는 바에 따라 위원회의 허 가를 받아야 한다. 허가받은 사항을 변경하려는 때에도 또한 같다. 다만, 총리령으로 정하는 경미한 사항을 변 경하려는 때에는 이를 신고하여야 한다. <개정 2013. 3. 23.>\\n\\n② 제1항에 따른 허가를 받으려는 자는 허가신청서에 방사선환경영향평가서, 예비안전성 분석보고서, 건설에 관한 품질보증계획서, 발전용원자로 및 관계시설의 해체계획서와 그 밖에 총리령으로 정하는 서류를 첨부하여 위원회에 제출하여야 한다. <개정 2013. 3. 23., 2015. 1. 20.>\\n\\n③ 위원회는 발전용원자로 및 관계시설을 건설하려는 자가 건설허가신청 전에 부지에 관한 사전 승인을 신청하\\n\\n면 이를 검토한 후에 승인할 수 있다.\\n\\n④ 제3항에 따라 부지에 관한 승인을 받은 자는 총리령으로 정하는 범위에서 공사를 할 수 있다. <개정 2013.\\n\\n3. 23.>\\n\\n⑤ 제3항에 따른 부지승인을 받으려는 자는 승인신청서에 방사선환경영향평가서ㆍ부지조사보고서와 그 밖에 총리령으로 정하는 서류를 첨부하여 위원회에 제출하여야 한다. <개정 2013. 3. 23.>\\n\\n⑥ 발전용원자로 및 관계시설을 건설하려는 자가 제3항에 따라 부지에 관한 승인을 받아 「건축법」 제2조제1\\n\\n항제2호에 따른 건축물을 건축하려는 경우에는 같은 법 제11조제3항에 따른 설계도서를 관계 행정기관의 장에 게 제출한 때에 같은 법 제11조에 따른 건축허가를 받은 것으로 본다.\\n\\n제11조(허가기준) 제10조제1항의 허가기준은 다음과 같다. <개정 2013. 3. 23., 2015. 1. 20.>\\n\\n\\t총리령으로 정하는 발전용원자로 및 관계시설의 건설에 필요한 기술능력을 확보하고 있을 것\\n\\n\\t\\t발전용원자로 및 관계시설의 위치ㆍ구조 및 설비가 원자력안전위원회규칙(이하 \"위원회규칙\"이라 한다)으로 정하는 기술기준에 적합하여 방사성물질등에 따른 인체ㆍ물체 및 공공의 재해방지에 지장이 없을 것\\n\\n\\t발전용원자로 및 관계시설의 건설로 인하여 발생되는 방사성물질등으로부터 국민의 건강 및 환경상의 위해\\n\\n를 방지하기 위하여 대❹령령으로 정하는 기준에 적합할 것\\n\\n\\t제10조제2항에 따른 품질보증계획서의 내용이 위원회규칙으로 정하는 기준에 적합할 것\\n\\n\\t제10조제2항에 따른 해체계획서의 내용이 위원회규칙으로 정하는 기준에 적합할 것\\n\\n제12조(표준설계인가) ① 같은 설계의 발전용원자로 및 관계시설을 반복적으로 건설하려는 자는 그 설계(이하 \" 표준설계\"라 한다)에 관하여 대❹령령으로 정하는 바에 따라 위원회의 인가를 받을 수 있다. 인가받은 사항을 변경하려는 때에도 또한 같다. 다만, 총리령으로 정하는 경미한 사항을 변경하려는 때에는 이를 신고하여야 한 다. <개정 2013. 3. 23.>\\n\\n② 제1항에 따른 인가를 받으려는 자는 인가신청서에 표준설계기술서와 그 밖에 총리령으로 정하는 서류를 첨 부하여 위원회에 제출하여야 한다. <개정 2013. 3. 23.>\\n\\n③ 제1항에 따른 인가의 유효기간은 10년으로 하되, 위원회는 유효기간 중이라도 설계의 안전성에 중대한 영 향이 있다고 인정하면 표준설계인가를 받은 자에게 인가받은 사항에 대한 시정 또는 보완을 명할 수 있다.\\n\\n\\n\\n법제처\\n\\n법제처\\n\\n- 2 / 37 -\\n\\n- 2 / 37 -\\n\\n국가법령정보센터\\n\\n국가법령정보센터')]"
      ]
     },
     "execution_count": 7,
     "metadata": {},
     "output_type": "execute_result"
    }
   ],
   "source": [
    "from langchain_community.document_loaders import Docx2txtLoader\n",
    "from langchain_text_splitters import RecursiveCharacterTextSplitter\n",
    "loader = Docx2txtLoader(\"./data/law.docx\")\n",
    "document = loader.load()\n",
    "document\n"
   ]
  },
  {
   "cell_type": "code",
   "execution_count": 8,
   "id": "83eb3784",
   "metadata": {},
   "outputs": [
    {
     "data": {
      "text/plain": [
       "[Document(metadata={'source': './data/law.docx'}, page_content='원자력안전법\\n\\n원자력안전법\\n\\n\\n\\n원자력안전법\\n\\n원자력안전법\\n\\n\\n\\n원자력안전법\\n\\n[시행 2020. 6. 9] [법률 제17359호, 2020. 6. 9, 타법개정]\\n\\n원자력안전위원회(안전정책과)  02-397-7264\\n\\n원자력안전위원회(안전기준과)  02-397-7303\\n\\n원자력안전위원회(방사선안전과)  02-397-7337\\n\\n원자력안전위원회(생활방사선안전과)  02-397-7334\\n\\n제1장 총칙\\n\\n제1조(목적) 이 법은 원자력의 연구ㆍ개발ㆍ생산ㆍ이용 등에 따른 안전관리에 관한 사항을 규정하여 방사선에 의 한 재해의 방지와 공공의 안전을 도모함을 목적으로 한다. <개정 2014. 5. 21.>\\n\\n제2조(정의) 이 법에서 사용하는 용어의 뜻은 다음과 같다. <개정 2013. 3. 23., 2014. 5. 21., 2015. 1. 20., 2015.\\n\\n6. 22., 2015. 12. 22.>\\n\\n\\t\"원자력\"이란 원자핵 변화의 과정에 있어서 원자핵으로부터 방출되는 모든 종류의 에너지를 말한다.\\n\\n\\t\"핵물질\"이란 핵연료물질 및 핵원료물질을 말한다.\\n\\n\\t\"핵연료물질\"이란 우라늄ㆍ토륨 등 원자력을 발생할 수 있는 물질로서 대❹령령으로 정하는 것을 말한다.\\n\\n\\t\\t\"핵원료물질\"이란 우라늄광ㆍ토륨광과 그 밖의 핵연료물질의 원료가 되는 물질로서 대❹령령으로 정하는 것 을 말한다.\\n\\n\\t\\t\"방사성물질\"이란 핵연료물질ㆍ사용후핵연료ㆍ방사성동위원소 및 원자핵분열생성물(原子核分裂生成物)을 말 한다.\\n\\n\\t\"방사성동위원소\"란 방사선을 방출하는 동위원소와 그 화합물 중 대❹령령으로 정하는 것을 말한다.\\n\\n\\t\"방사선\"이란 전자파 또는 입자선 중 직접 또는 간접으로 공기를 전리(電離)하는 능력을 가진 것으로서 대\\n\\n❹령령으로 정하는 것을 말한다.\\n\\n\\t\"원자로\"란 핵연료물질을 연료로 사용하는 장치를 말한다. 다만, 대❹령령으로 정하는 것은 제외한다.\\n\\n\\t\\t\"방사선발생장치\"란 하전입자(荷電粒子)를 가속시켜 방사선을 발생시키는 장치로서 대❹령령으로 정하는 것 을 말한다.'),\n",
       " Document(metadata={'source': './data/law.docx'}, page_content='❹령령으로 정하는 것을 말한다.\\n\\n\\t\"원자로\"란 핵연료물질을 연료로 사용하는 장치를 말한다. 다만, 대❹령령으로 정하는 것은 제외한다.\\n\\n\\t\\t\"방사선발생장치\"란 하전입자(荷電粒子)를 가속시켜 방사선을 발생시키는 장치로서 대❹령령으로 정하는 것 을 말한다.\\n\\n\\t\"관계시설\"이란 원자로의 안전에 관계되는 시설로서 대❹령령으로 정하는 것을 말한다.\\n\\n\\t\\t\"정련\"(精鍊)이란 핵원료물질에 포함된 우라늄 또는 토륨의 비율을 높이기 위하여 물리적ㆍ화학적 방법으 로 핵원료물질을 처리하는 것을 말한다.\\n\\n\\t\"변환\"이란 핵연료물질을 화학적 방법으로 처리하여 가공에 적합한 형태로 만드는 것을 말한다.\\n\\n\\t\\t\"가공\"이란 핵연료물질을 물리적ㆍ화학적 방법으로 처리하여 원자로의 연료로서 사용할 수 있는 형태로 만 드는 것을 말한다.\\n\\n\\t\\t\"사용후핵연료처리\"란 원자로의 연료로서 사용된 핵연료물질 또는 그 밖의 방법으로 원자핵분열을 시킨 핵 연료물질을 연구 또는 시험을 목적으로 취급하거나, 물리적ㆍ화학적 방법으로 처리하여 핵연료물질과 그 밖 의 물질로 분리하는 것을 말한다.\\n\\n\\t\"핵연료주기사업\"이란 정련ㆍ변환ㆍ가공 또는 사용후핵연료처리 사업을 말한다.\\n\\n\\t\\t\"방사선관리구역\"이란 외부의 방사선량율(放射線量率), 공기 중의 방사성물질의 농도 또는 방사성물질에 따라 오염된 물질의 표면의 오염도가 원자력안전위원회규칙으로 정하는 값을 초과할 우려가 있는 곳으로서 방사선의 안전관리를 위하여 사람의 출입을 관리하고 출입자에 대하여 방사선의 장해(障害)를 방지하기 위한 조치가 필요한 구역을 말한다.\\n\\n\\t\\t\"국제규제물자\"란 원자력의 연구ㆍ개발 및 이용에 관한 조약과 그 밖의 국제약속(이하 \"국제약속\"이라 한 다)에 따라 보장조치의 적용대상이 되는 물자로서 총리령으로 정하는 것을 말한다.\\n\\n\\t\\t\"방사성폐기물\"이란 방사성물질 또는 그에 따라 오염된 물질(이하 \"방사성물질등\"이라 한다)로서 폐기의 대상이 되는 물질(제35조제4항에 따라 폐기하기로 결정한 사용후핵연료를 포함한다)을 말한다.'),\n",
       " Document(metadata={'source': './data/law.docx'}, page_content='\"방사성폐기물\"이란 방사성물질 또는 그에 따라 오염된 물질(이하 \"방사성물질등\"이라 한다)로서 폐기의 대상이 되는 물질(제35조제4항에 따라 폐기하기로 결정한 사용후핵연료를 포함한다)을 말한다.\\n\\n\\t\\t\"피폭방사선량\"(被曝放射線量)이란 사람의 신체의 외부 또는 내부에 피폭하는 방사선량을 말한다. 다만, 진 료를 위하여 피폭하는 방사선량과 인위적으로 증가시키지 아니하는 자연방사선량은 제외한다. 이 경우 방사 선량의 종류 및 적용기준은 원자력안전위원회가 정하여 고시한다.\\n\\n\\n\\n법제처\\n\\n-1 / 37 -\\n\\n국가법령정보센터\\n\\n법제처\\n\\n-1 / 37 -\\n\\n국가법령정보센터\\n\\n\\n\\n\\t\\t\"원자력이용시설\"이란 원자력의 연구ㆍ개발ㆍ생산ㆍ이용(이하 \"원자력이용\"이라 한다)과 관련된 시설로서 대❹령령으로 정하는 것을 말한다.\\n\\n\\t\"방사선작업종사자\"란 원자력이용시설의 운전ㆍ이용 또는 보전이나 방사성물질등의 사용ㆍ취급ㆍ저장ㆍ보\\n\\n관ㆍ처리ㆍ배출ㆍ처분ㆍ운반과 그 밖의 관리 또는 오염제거 등 방사선에 피폭하거나 그 염려가 있는 업무에 종사하는 자를 말한다.\\n\\n\\t\"안전관련설비\"란 원자로 및 관계시설 중에서 원자력안전위원회규칙으로 정하는 안전에 중요한 구조물ㆍ계\\n\\n❹ 및 기기로서 원자력안전위원회규칙으로 정하는 바에 따라 안전등급이 부여된 설비를 말한다.\\n\\n\\t\\t\"방사선투과검사\"란 「비파괴검사기술의 진흥 및 관리에 관한 법률」 제2조에 따른 비파괴검사 중 방사선 을 이용한 비파괴검사를 말한다.\\n\\n\\t\\t\"해체\"란 제20조제1항에 따라 허가를 받은 자, 제30조의2제1항에 따라 허가를 받은 자, 제35조제1항 및 제2항에 따라 허가 또는 지정을 받은 자가 이 법에 따라 허가 또는 지정을 받은 시설의 운영을 영구적으로 정지(이하 \"영구정지\"라 한다)한 후, 해당 시설과 부지를 철거하거나 방사성오염을 제거함으로써 이 법의 적 용대상에서 배제하기 위한 모든 활동을 말한다.'),\n",
       " Document(metadata={'source': './data/law.docx'}, page_content='24의2. \"폐쇄\"란 제63조에 따라 방사성폐기물 처분시설의 건설ㆍ운영 허가를 받은 자가 방사성폐기물을 처분 하는 활동을 완결하고 장기 안전성을 확보하기 위하여 실시하는 관리적ㆍ기술적 조치(방사성폐기물 처분시설 지하 공간의 뒷채움, 덮개 설치 등을 포함한다)를 말한다.\\n\\n\\t\"사고관리\"란 원자로시설에 사고가 발생하였을 때 사고가 확대되는 것을 방지하고 사고의 영향을 완화하며\\n\\n안전한 상태로 회복하기 위하여 취하는 제반조치를 말하며, 원자력안전위원회에서 정하는 설계기준을 초과하 여 노심의 현저한 손상을 초래하는 사고(이하 \"중대사고\"라 한다)에 대한 관리를 포함한다.\\n\\n제2조(정의) 이 법에서 사용하는 용어의 뜻은 다음과 같다. <개정 2013. 3. 23., 2014. 5. 21., 2015. 1. 20., 2015.\\n\\n6. 22., 2015. 12. 22., 2020. 12. 22.>\\n\\n\\t\"원자력\"이란 원자핵 변화의 과정에 있어서 원자핵으로부터 방출되는 모든 종류의 에너지를 말한다.\\n\\n\\t\"핵물질\"이란 핵연료물질 및 핵원료물질을 말한다.\\n\\n\\t\"핵연료물질\"이란 우라늄ㆍ토륨 등 원자력을 발생할 수 있는 물질로서 대❹령령으로 정하는 것을 말한다.\\n\\n\\t\\t\"핵원료물질\"이란 우라늄광ㆍ토륨광과 그 밖의 핵연료물질의 원료가 되는 물질로서 대❹령령으로 정하는 것 을 말한다.\\n\\n\\t\\t\"방사성물질\"이란 핵연료물질ㆍ사용후핵연료ㆍ방사성동위원소 및 원자핵분열생성물(原子核分裂生成物)을 말 한다.\\n\\n\\t\"방사성동위원소\"란 방사선을 방출하는 동위원소와 그 화합물 중 대❹령령으로 정하는 것을 말한다.\\n\\n\\t\"방사선\"이란 전자파 또는 입자선 중 직접 또는 간접으로 공기를 전리(電離)하는 능력을 가진 것으로서 대\\n\\n❹령령으로 정하는 것을 말한다.\\n\\n\\t\"원자로\"란 핵연료물질을 연료로 사용하는 장치를 말한다. 다만, 대❹령령으로 정하는 것은 제외한다.\\n\\n\\t\\t\"방사선발생장치\"란 하전입자(荷電粒子)를 가속시켜 방사선을 발생시키는 장치로서 대❹령령으로 정하는 것 을 말한다.'),\n",
       " Document(metadata={'source': './data/law.docx'}, page_content='❹령령으로 정하는 것을 말한다.\\n\\n\\t\"원자로\"란 핵연료물질을 연료로 사용하는 장치를 말한다. 다만, 대❹령령으로 정하는 것은 제외한다.\\n\\n\\t\\t\"방사선발생장치\"란 하전입자(荷電粒子)를 가속시켜 방사선을 발생시키는 장치로서 대❹령령으로 정하는 것 을 말한다.\\n\\n\\t\"관계시설\"이란 원자로의 안전에 관계되는 시설로서 대❹령령으로 정하는 것을 말한다.\\n\\n\\t\\t\"정련\"(精鍊)이란 핵원료물질에 포함된 우라늄 또는 토륨의 비율을 높이기 위하여 물리적ㆍ화학적 방법으 로 핵원료물질을 처리하는 것을 말한다.\\n\\n\\t\"변환\"이란 핵연료물질을 화학적 방법으로 처리하여 가공에 적합한 형태로 만드는 것을 말한다.\\n\\n\\t\\t\"가공\"이란 핵연료물질을 물리적ㆍ화학적 방법으로 처리하여 원자로의 연료로서 사용할 수 있는 형태로 만 드는 것을 말한다.\\n\\n\\t\\t\"사용후핵연료처리\"란 원자로의 연료로서 사용된 핵연료물질 또는 그 밖의 방법으로 원자핵분열을 시킨 핵 연료물질을 연구 또는 시험을 목적으로 취급하거나, 물리적ㆍ화학적 방법으로 처리하여 핵연료물질과 그 밖 의 물질로 분리하는 것을 말한다.\\n\\n\\t\"핵연료주기사업\"이란 정련ㆍ변환ㆍ가공 또는 사용후핵연료처리 사업을 말한다.\\n\\n\\t\\t\"방사선관리구역\"이란 외부의 방사선량율(放射線量率), 공기 중의 방사성물질의 농도 또는 방사성물질에 따라 오염된 물질의 표면의 오염도가 원자력안전위원회규칙으로 정하는 값을 초과할 우려가 있는 곳으로서 방사선의 안전관리를 위하여 사람의 출입을 관리하고 출입자에 대하여 방사선의 장해(障害)를 방지하기 위한 조치가 필요한 구역을 말한다.\\n\\n\\t\\t\"국제규제물자\"란 원자력의 연구ㆍ개발 및 이용에 관한 조약과 그 밖의 국제약속(이하 \"국제약속\"이라 한 다)에 따라 보장조치의 적용대상이 되는 물자로서 총리령으로 정하는 것을 말한다.\\n\\n\\t\"방사성폐기물\"이란 방사성물질 또는 그에 따라 오염된 물질(이하 \"방사성물질등\"이라 한다)로서 폐기의\\n\\n\\n\\n대상이 되는 물질(제35조제4항에 따라 폐기하기로 결정한 사용후핵연료를 포함한다)을 말한다.'),\n",
       " Document(metadata={'source': './data/law.docx'}, page_content='\"방사성폐기물\"이란 방사성물질 또는 그에 따라 오염된 물질(이하 \"방사성물질등\"이라 한다)로서 폐기의\\n\\n\\n\\n대상이 되는 물질(제35조제4항에 따라 폐기하기로 결정한 사용후핵연료를 포함한다)을 말한다.\\n\\n\\t\\t\"피폭방사선량\"(被曝放射線量)이란 사람의 신체의 외부 또는 내부에 피폭하는 방사선량을 말한다. 다만, 진 료를 위하여 피폭하는 방사선량과 인위적으로 증가시키지 아니하는 자연방사선량은 제외한다. 이 경우 방사 선량의 종류 및 적용기준은 원자력안전위원회가 정하여 고시한다.\\n\\n\\t\"원자력이용시설\"이란 원자력의 연구ㆍ개발ㆍ생산ㆍ이용(이하 \"원자력이용\"이라 한다)과 관련된 시설로서\\n\\n대❹령령으로 정하는 것을 말한다.\\n\\n\\t\\t\"방사선작업종사자\"란 원자력이용시설의 운전ㆍ이용 또는 보전이나 방사성물질등의 사용ㆍ취급ㆍ저장ㆍ보 관ㆍ처리ㆍ배출ㆍ처분ㆍ운반과 그 밖의 관리 또는 오염제거 등 방사선에 피폭하거나 그 염려가 있는 업무에 종사하는 자를 말한다.\\n\\n\\t\"안전관련설비\"란 원자로 및 관계시설 중에서 원자력안전위원회규칙으로 정하는 안전에 중요한 구조물ㆍ계\\n\\n❹ 및 기기로서 원자력안전위원회규칙으로 정하는 바에 따라 안전등급이 부여된 설비를 말한다.\\n\\n\\t\\t\"방사선투과검사\"란 「비파괴검사기술의 진흥 및 관리에 관한 법률」 제2조에 따른 비파괴검사 중 방사선 을 이용한 비파괴검사를 말한다.\\n\\n\\t\\t\"해체\"란 제20조제1항에 따라 허가를 받은 자, 제30조의2제1항에 따라 허가를 받은 자, 제35조제1항 및 제2항에 따라 허가 또는 지정을 받은 자, 제63조제1항에 따라 건설ㆍ운영 허가를 받은 자가 이 법에 따라 허가 또는 지정을 받은 시설의 운영을 영구적으로 정지(이하 \"영구정지\"라 한다)한 후, 해당 시설과 부지를 철거하거나 방사성오염을 제거함으로써 이 법의 적용대상에서 배제하기 위한 모든 활동을 말한다.'),\n",
       " Document(metadata={'source': './data/law.docx'}, page_content='24의2. \"폐쇄\"란 제63조에 따라 방사성폐기물 처분시설 및 그 부속시설의 건설ㆍ운영 허가를 받은 자가 방사 성폐기물을 처분하는 활동을 완결하고 장기 안전성을 확보하기 위하여 실시하는 관리적ㆍ기술적 조치(방사성 폐기물 처분시설 지하 공간의 뒷채움, 덮개 설치 등을 포함한다)를 말한다.\\n\\n\\t\"사고관리\"란 원자로시설에 사고가 발생하였을 때 사고가 확대되는 것을 방지하고 사고의 영향을 완화하며\\n\\n안전한 상태로 회복하기 위하여 취하는 제반조치를 말하며, 원자력안전위원회에서 정하는 설계기준을 초과하 여 노심의 현저한 손상을 초래하는 사고(이하 \"중대사고\"라 한다)에 대한 관리를 포함한다.\\n\\n[시행일 : 2021. 6. 23.] 제2조\\n\\n제2조의2(원자력안전관리의 기본원칙) 원자력의 연구ㆍ개발ㆍ생산ㆍ이용 등에 따른 안전관리(이하 \"원자력안전관 리\"라 한다)는 다음 각 호의 원칙에 따라 추진하여야 한다.\\n\\n\\t「원자력안전협약」 등 국제규범에 따른 원칙을 준수할 것\\n\\n\\t방사선장해로부터 국민안전과 환경을 보호하는 데에 기여할 것\\n\\n\\t과학기술의 발전수준을 반영하여 안전기준을 설정할 것\\n\\n[본조신설 2015. 12. 22.]\\n\\n제2장 원자력안전종합계획의 수립ㆍ시행 등\\n\\n제3조(원자력안전종합계획의 수립) ① 「원자력안전위원회의 설치 및 운영에 관한 법률」 제3조에 따른 원자력 안전위원회(이하 \"위원회\"라 한다)는 원자력이용에 따른 안전관리(이하 \"원자력안전관리\"라 한다)를 위하여 5 년마다 원자력안전종합계획(이하 \"종합계획\"이라 한다)을 수립하여야 한다.\\n\\n② 종합계획에는 다음 각 호의 사항이 포함되어야 한다.\\n\\n\\t원자력안전관리에 관한 현황과 전망에 관한 사항\\n\\n\\t원자력안전관리에 관한 정책목표와 기본방향에 관한 사항\\n\\n\\t부문별 과제 및 그 추진에 관한 사항\\n\\n\\t소요재원의 투자계획 및 조달에 관한 사항\\n\\n\\t그 밖에 원자력안전관리를 위하여 필요한 사항\\n\\n③ 위원회는 종합계획을 수립하려면 미리 관계 부처의 장과 협의하여야 한다. 수립된 종합계획을 변경하려는 때에도 또한 같다.'),\n",
       " Document(metadata={'source': './data/law.docx'}, page_content='원자력안전관리에 관한 정책목표와 기본방향에 관한 사항\\n\\n\\t부문별 과제 및 그 추진에 관한 사항\\n\\n\\t소요재원의 투자계획 및 조달에 관한 사항\\n\\n\\t그 밖에 원자력안전관리를 위하여 필요한 사항\\n\\n③ 위원회는 종합계획을 수립하려면 미리 관계 부처의 장과 협의하여야 한다. 수립된 종합계획을 변경하려는 때에도 또한 같다.\\n\\n④ 종합계획의 수립 및 변경은 위원회의 심의ㆍ의결을 거쳐 확정한다. 다만, 대❹령령으로 정하는 경미한 사항\\n\\n의 변경은 그러하지 아니하다.\\n\\n⑤ 위원회는 종합계획의 수립을 위하여 필요하다고 인정하면 관계 기관의 장에게 종합계획의 수립에 필요한 자 료의 제출을 요구할 수 있다.\\n\\n제4조(종합계획의 시행) ① 위원회는 제3조제4항에 따라 확정된 종합계획을 관계 부처의 장에게 ❹보하여야 하 며, 위원회와 관계 부처의 장은 종합계획에 따라 소관 사항에 대하여 5년마다 부문별 시행계획을 수립하고, 부 문별 시행계획에 따라 연도별 세부사업추진계획을 수립ㆍ시행하여야 한다.\\n\\n\\n\\n② 위원회와 관계 부처의 장은 제1항에 따른 부문별 시행계획을 수립하는 때에는 필요하면 다른 관계 부처의 장과 협의를 거쳐 부문별 시행계획을 확정하고, 관계 부처의 장은 확정된 부문별 시행계획을 위원회에 ❹보하 여야 한다.\\n\\n제5조(원자력안전전문기관) ① 위원회의 감독하에 원자력안전관리에 관한 사항을 전문적으로 수행하기 위하여 원 자력안전전문기관을 둘 수 있다.\\n\\n② 제1항에 따른 원자력안전전문기관의 설치ㆍ운영에 관한 사항은 따로 법률로 정한다.\\n\\n제6조(한국원자력통제기술원의 설립) ① 원자력 관련 시설 및 핵물질 등에 관한 안전조치와 수출입❹제 등(이하 \"원자력❹제\"라 한다)의 업무를 효율적으로 추진하기 위하여 한국원자력❹제기술원(이하 \"❹제기술원\"이라 한 다)을 설립한다.\\n\\n② ❹제기술원은 법인으로 한다.\\n\\n③ ❹제기술원은 그 주된 사무소가 있는 곳에서 설립등기를 함으로써 성립한다.\\n\\n④ ❹제기술원은 그 정관을 변경하고자 할 때에는 위원회의 인가를 받아야 한다.'),\n",
       " Document(metadata={'source': './data/law.docx'}, page_content='② ❹제기술원은 법인으로 한다.\\n\\n③ ❹제기술원은 그 주된 사무소가 있는 곳에서 설립등기를 함으로써 성립한다.\\n\\n④ ❹제기술원은 그 정관을 변경하고자 할 때에는 위원회의 인가를 받아야 한다.\\n\\n⑤ ❹제기술원에 임원으로서 이사장과 원장 각 1명을 포함한 11명 이내의 이사와 감사 1명을 두며, 임원은 정 관으로 정하는 바에 따라 이사회에서 선임하되, 위원회의 승인을 받아야 한다.\\n\\n⑥ ❹제기술원의 중요 사항을 심의ㆍ의결하기 위하여 ❹제기술원에 이사회를 둔다.\\n\\n⑦ 원장은 ❹제기술원을 대표하고, ❹제기술원의 업무를 총괄하며, 소속 직원을 지휘ㆍ감독한다.\\n\\n⑧ 정부는 예산의 범위에서 ❹제기술원의 설립 및 운영에 필요한 경비를 출연할 수 있다.\\n\\n⑨ ❹제기술원에 관하여 이 법에서 정하는 것을 제외하고는 「민법」 중 재단법인에 관한 규정을 준용한다.\\n\\n제7조(통제기술원의 사업) ❹제기술원은 다음 각 호의 사업을 수행한다.\\n\\n\\t\\t제111조제1항에 따라 위원회로부터 위탁받은 원자력 관련 시설ㆍ장비ㆍ기술ㆍ연구개발활동 및 핵물질에 관 한 안전조치 관련 업무\\n\\n\\t제111조제1항에 따라 위원회로부터 위탁받은 핵물질 등 국제규제물자에 관한 수출입❹제 관련 업무\\n\\n\\t\\t「원자력시설 등의 방호 및 방사능 방재 대책법」 제45조제1항에 따라 위원회로부터 위탁받은 물리적방호 관련 업무\\n\\n\\t원자력❹제에 관한 연구 및 기술개발\\n\\n\\t원자력❹제에 관한 국제협력 지원\\n\\n\\t원자력❹제에 관한 교육\\n\\n\\t그 밖에 원자력❹제 업무의 수행을 위하여 필요한 사항\\n\\n제7조의2(한국원자력안전재단의 설립) ① 원자력 및 방사선 안전기반 조성 활동을 효율적으로 지원하기 위하여 한국원자력안전재단(이하 \"안전재단\"이라 한다)을 설립한다.\\n\\n② 안전재단은 다음 각 호의 사업을 수행한다.\\n\\n\\t위원회의 원자력안전 정책수립 지원을 위한 기초자료 조사ㆍ연구\\n\\n\\t제8조제1항에 따른 실태조사\\n\\n\\t제9조제1항에 따른 원자력안전연구개발사업의 기획, 관리 및 평가\\n\\n\\t제106조에 따른 방사선작업종사자에 대한 교육 및 훈련'),\n",
       " Document(metadata={'source': './data/law.docx'}, page_content='② 안전재단은 다음 각 호의 사업을 수행한다.\\n\\n\\t위원회의 원자력안전 정책수립 지원을 위한 기초자료 조사ㆍ연구\\n\\n\\t제8조제1항에 따른 실태조사\\n\\n\\t제9조제1항에 따른 원자력안전연구개발사업의 기획, 관리 및 평가\\n\\n\\t제106조에 따른 방사선작업종사자에 대한 교육 및 훈련\\n\\n\\t제107조의2에 따른 국제협력 지원\\n\\n\\t이 법 또는 다른 법령에 따라 위탁받은 업무 및 그 밖에 위원회에서 필요하다고 인정하는 사업\\n\\n③ 안전재단은 법인으로 한다.\\n\\n④ 안전재단은 그 주된 사무소가 있는 곳에서 설립등기를 함으로써 성립한다.\\n\\n⑤ 안전재단이 정관을 제정하거나 변경하고자 하는 때에는 위원회의 인가를 받아야 한다.\\n\\n⑥ 안전재단의 중요 사항을 심의ㆍ의결하기 위하여 안전재단에 이사회를 둔다.\\n\\n⑦ 안전재단에 임원으로서 이사장 1명을 포함한 11명 이내의 이사와 감사 1명을 두며 임원은 정관으로 정하는 바에 따라 이사회에서 선임하되, 위원회의 승인을 받아야 한다.\\n\\n⑧ 위원회는 예산의 범위에서 안전재단의 운영에 필요한 경비를 출연할 수 있다.\\n\\n⑨ 안전재단에 관하여 이 법에 정하는 것을 제외하고는 「민법」 중 재단법인에 관한 규정을 준용한다.\\n\\n[본조신설 2015. 12. 22.]\\n\\n제8조(실태조사) ① 위원회는 원자력안전정책을 효율적으로 추진하기 위하여 원자력안전에 관한 실태조사를 실시 하여야 한다. 이 경우 위원회는 대❹령령으로 정하는 기관 또는 단체로 하여금 실태조사를 실시하게 할 수 있 다.\\n\\n\\n\\n② 위원회는 제1항에 따른 실태조사를 위하여 필요하다고 인정하면 원자력 관련 기업ㆍ교육기관ㆍ연구기관과 그 밖의 원자력 관련 기관에게 자료의 제출이나 의견의 진술 등을 요구할 수 있다.\\n\\n제9조(원자력안전연구개발사업의 추진 등) ① 위원회는 제4조제1항에 따라 수립된 부문별 시행계획에 따라 원자 력안전연구개발사업계획을 수립하고, 이를 효율적으로 추진하기 위하여 매년 연구개발과제를 선정하여 다음 각 호의 기관 또는 단체와 협약을 맺어 연구개발하게 할 수 있다.'),\n",
       " Document(metadata={'source': './data/law.docx'}, page_content='제9조(원자력안전연구개발사업의 추진 등) ① 위원회는 제4조제1항에 따라 수립된 부문별 시행계획에 따라 원자 력안전연구개발사업계획을 수립하고, 이를 효율적으로 추진하기 위하여 매년 연구개발과제를 선정하여 다음 각 호의 기관 또는 단체와 협약을 맺어 연구개발하게 할 수 있다.\\n\\n\\t제5조에 따라 설립된 기관\\n\\n\\t❹제기술원\\n\\n\\t「기초연구진흥 및 기술개발지원에 관한 법률」 제14조제1항 각 호의 기관 또는 단체\\n\\n② 제1항에 따른 원자력안전연구개발사업을 실시하는 데에 드는 비용은 다음 각 호의 재원으로 충당한다. <개 정 2015. 6. 22.>\\n\\n\\t정부의 출연금\\n\\n\\t「원자력 진흥법」 제17조제2항에 따른 원자력기금의 원자력안전규제계정\\n\\n\\t원자력안전연구개발사업의 실시과정에서 발생한 잔액과 그 밖의 수입금\\n\\n③ 제1항에 따른 원자력안전연구개발사업의 실시와 제2항에 따른 비용의 운용에 필요한 사항은 대❹령령으로 정한다.\\n\\n제3장 원자로 및 관계시설의 건설ㆍ운영 제1절 발전용원자로 및 관계시설의 건설\\n\\n제10조(건설허가) ① 발전용원자로 및 관계시설을 건설하려는 자는 대❹령령으로 정하는 바에 따라 위원회의 허 가를 받아야 한다. 허가받은 사항을 변경하려는 때에도 또한 같다. 다만, 총리령으로 정하는 경미한 사항을 변 경하려는 때에는 이를 신고하여야 한다. <개정 2013. 3. 23.>\\n\\n② 제1항에 따른 허가를 받으려는 자는 허가신청서에 방사선환경영향평가서, 예비안전성 분석보고서, 건설에 관한 품질보증계획서, 발전용원자로 및 관계시설의 해체계획서와 그 밖에 총리령으로 정하는 서류를 첨부하여 위원회에 제출하여야 한다. <개정 2013. 3. 23., 2015. 1. 20.>\\n\\n③ 위원회는 발전용원자로 및 관계시설을 건설하려는 자가 건설허가신청 전에 부지에 관한 사전 승인을 신청하\\n\\n면 이를 검토한 후에 승인할 수 있다.\\n\\n④ 제3항에 따라 부지에 관한 승인을 받은 자는 총리령으로 정하는 범위에서 공사를 할 수 있다. <개정 2013.\\n\\n3. 23.>'),\n",
       " Document(metadata={'source': './data/law.docx'}, page_content='③ 위원회는 발전용원자로 및 관계시설을 건설하려는 자가 건설허가신청 전에 부지에 관한 사전 승인을 신청하\\n\\n면 이를 검토한 후에 승인할 수 있다.\\n\\n④ 제3항에 따라 부지에 관한 승인을 받은 자는 총리령으로 정하는 범위에서 공사를 할 수 있다. <개정 2013.\\n\\n3. 23.>\\n\\n⑤ 제3항에 따른 부지승인을 받으려는 자는 승인신청서에 방사선환경영향평가서ㆍ부지조사보고서와 그 밖에 총리령으로 정하는 서류를 첨부하여 위원회에 제출하여야 한다. <개정 2013. 3. 23.>\\n\\n⑥ 발전용원자로 및 관계시설을 건설하려는 자가 제3항에 따라 부지에 관한 승인을 받아 「건축법」 제2조제1\\n\\n항제2호에 따른 건축물을 건축하려는 경우에는 같은 법 제11조제3항에 따른 설계도서를 관계 행정기관의 장에 게 제출한 때에 같은 법 제11조에 따른 건축허가를 받은 것으로 본다.\\n\\n제11조(허가기준) 제10조제1항의 허가기준은 다음과 같다. <개정 2013. 3. 23., 2015. 1. 20.>\\n\\n\\t총리령으로 정하는 발전용원자로 및 관계시설의 건설에 필요한 기술능력을 확보하고 있을 것\\n\\n\\t\\t발전용원자로 및 관계시설의 위치ㆍ구조 및 설비가 원자력안전위원회규칙(이하 \"위원회규칙\"이라 한다)으로 정하는 기술기준에 적합하여 방사성물질등에 따른 인체ㆍ물체 및 공공의 재해방지에 지장이 없을 것\\n\\n\\t발전용원자로 및 관계시설의 건설로 인하여 발생되는 방사성물질등으로부터 국민의 건강 및 환경상의 위해\\n\\n를 방지하기 위하여 대❹령령으로 정하는 기준에 적합할 것\\n\\n\\t제10조제2항에 따른 품질보증계획서의 내용이 위원회규칙으로 정하는 기준에 적합할 것\\n\\n\\t제10조제2항에 따른 해체계획서의 내용이 위원회규칙으로 정하는 기준에 적합할 것'),\n",
       " Document(metadata={'source': './data/law.docx'}, page_content='발전용원자로 및 관계시설의 건설로 인하여 발생되는 방사성물질등으로부터 국민의 건강 및 환경상의 위해\\n\\n를 방지하기 위하여 대❹령령으로 정하는 기준에 적합할 것\\n\\n\\t제10조제2항에 따른 품질보증계획서의 내용이 위원회규칙으로 정하는 기준에 적합할 것\\n\\n\\t제10조제2항에 따른 해체계획서의 내용이 위원회규칙으로 정하는 기준에 적합할 것\\n\\n제12조(표준설계인가) ① 같은 설계의 발전용원자로 및 관계시설을 반복적으로 건설하려는 자는 그 설계(이하 \" 표준설계\"라 한다)에 관하여 대❹령령으로 정하는 바에 따라 위원회의 인가를 받을 수 있다. 인가받은 사항을 변경하려는 때에도 또한 같다. 다만, 총리령으로 정하는 경미한 사항을 변경하려는 때에는 이를 신고하여야 한 다. <개정 2013. 3. 23.>\\n\\n② 제1항에 따른 인가를 받으려는 자는 인가신청서에 표준설계기술서와 그 밖에 총리령으로 정하는 서류를 첨 부하여 위원회에 제출하여야 한다. <개정 2013. 3. 23.>\\n\\n③ 제1항에 따른 인가의 유효기간은 10년으로 하되, 위원회는 유효기간 중이라도 설계의 안전성에 중대한 영 향이 있다고 인정하면 표준설계인가를 받은 자에게 인가받은 사항에 대한 시정 또는 보완을 명할 수 있다.\\n\\n\\n\\n법제처\\n\\n법제처\\n\\n- 2 / 37 -\\n\\n- 2 / 37 -\\n\\n국가법령정보센터\\n\\n국가법령정보센터')]"
      ]
     },
     "execution_count": 8,
     "metadata": {},
     "output_type": "execute_result"
    }
   ],
   "source": [
    "text_splitter = RecursiveCharacterTextSplitter(\n",
    "    chunk_size = 1000, \n",
    "    chunk_overlap = 200,\n",
    ")\n",
    "\n",
    "loader = Docx2txtLoader('./data/law.docx')\n",
    "document_list = loader.load_and_split(text_splitter=text_splitter)\n",
    "document_list"
   ]
  },
  {
   "cell_type": "code",
   "execution_count": 13,
   "id": "d566e164",
   "metadata": {},
   "outputs": [],
   "source": [
    "from dotenv import load_dotenv\n",
    "from langchain_openai import OpenAIEmbeddings\n",
    "\n",
    "load_dotenv()\n",
    "embedding = OpenAIEmbeddings(model = 'text-embedding-3-large'\n",
    "                             , dimensions=1024) # 벡터 dimension에 맞게 조절가능. default openAI embedding: 3072"
   ]
  },
  {
   "cell_type": "code",
   "execution_count": null,
   "id": "6dfe04ec",
   "metadata": {},
   "outputs": [
    {
     "name": "stdout",
     "output_type": "stream",
     "text": [
      "Requirement already satisfied: langchain-pinecone in d:\\saltlux\\workspace_py\\kakao\\venv\\lib\\site-packages (0.2.12)\n",
      "Requirement already satisfied: pinecone-notebooks in d:\\saltlux\\workspace_py\\kakao\\venv\\lib\\site-packages (0.1.1)\n",
      "Requirement already satisfied: langchain-core<1.0.0,>=0.3.34 in d:\\saltlux\\workspace_py\\kakao\\venv\\lib\\site-packages (from langchain-pinecone) (0.3.78)\n",
      "Requirement already satisfied: pinecone<8.0.0,>=6.0.0 in d:\\saltlux\\workspace_py\\kakao\\venv\\lib\\site-packages (from pinecone[asyncio]<8.0.0,>=6.0.0->langchain-pinecone) (7.3.0)\n",
      "Requirement already satisfied: numpy>=1.26.4 in d:\\saltlux\\workspace_py\\kakao\\venv\\lib\\site-packages (from langchain-pinecone) (2.3.3)\n",
      "Requirement already satisfied: langchain-openai>=0.3.11 in d:\\saltlux\\workspace_py\\kakao\\venv\\lib\\site-packages (from langchain-pinecone) (0.3.34)\n",
      "Requirement already satisfied: httpx>=0.28.0 in d:\\saltlux\\workspace_py\\kakao\\venv\\lib\\site-packages (from langchain-pinecone) (0.28.1)\n",
      "Requirement already satisfied: simsimd>=5.9.11 in d:\\saltlux\\workspace_py\\kakao\\venv\\lib\\site-packages (from langchain-pinecone) (6.5.3)\n",
      "Requirement already satisfied: anyio in d:\\saltlux\\workspace_py\\kakao\\venv\\lib\\site-packages (from httpx>=0.28.0->langchain-pinecone) (4.11.0)\n",
      "Requirement already satisfied: certifi in d:\\saltlux\\workspace_py\\kakao\\venv\\lib\\site-packages (from httpx>=0.28.0->langchain-pinecone) (2025.10.5)\n",
      "Requirement already satisfied: httpcore==1.* in d:\\saltlux\\workspace_py\\kakao\\venv\\lib\\site-packages (from httpx>=0.28.0->langchain-pinecone) (1.0.9)\n",
      "Requirement already satisfied: idna in d:\\saltlux\\workspace_py\\kakao\\venv\\lib\\site-packages (from httpx>=0.28.0->langchain-pinecone) (3.10)\n",
      "Requirement already satisfied: h11>=0.16 in d:\\saltlux\\workspace_py\\kakao\\venv\\lib\\site-packages (from httpcore==1.*->httpx>=0.28.0->langchain-pinecone) (0.16.0)\n",
      "Requirement already satisfied: langsmith<1.0.0,>=0.3.45 in d:\\saltlux\\workspace_py\\kakao\\venv\\lib\\site-packages (from langchain-core<1.0.0,>=0.3.34->langchain-pinecone) (0.4.32)\n",
      "Requirement already satisfied: tenacity!=8.4.0,<10.0.0,>=8.1.0 in d:\\saltlux\\workspace_py\\kakao\\venv\\lib\\site-packages (from langchain-core<1.0.0,>=0.3.34->langchain-pinecone) (9.1.2)\n",
      "Requirement already satisfied: jsonpatch<2.0.0,>=1.33.0 in d:\\saltlux\\workspace_py\\kakao\\venv\\lib\\site-packages (from langchain-core<1.0.0,>=0.3.34->langchain-pinecone) (1.33)\n",
      "Requirement already satisfied: PyYAML<7.0.0,>=5.3.0 in d:\\saltlux\\workspace_py\\kakao\\venv\\lib\\site-packages (from langchain-core<1.0.0,>=0.3.34->langchain-pinecone) (6.0.3)\n",
      "Requirement already satisfied: typing-extensions<5.0.0,>=4.7.0 in d:\\saltlux\\workspace_py\\kakao\\venv\\lib\\site-packages (from langchain-core<1.0.0,>=0.3.34->langchain-pinecone) (4.15.0)\n",
      "Requirement already satisfied: packaging<26.0.0,>=23.2.0 in d:\\saltlux\\workspace_py\\kakao\\venv\\lib\\site-packages (from langchain-core<1.0.0,>=0.3.34->langchain-pinecone) (24.2)\n",
      "Requirement already satisfied: pydantic<3.0.0,>=2.7.4 in d:\\saltlux\\workspace_py\\kakao\\venv\\lib\\site-packages (from langchain-core<1.0.0,>=0.3.34->langchain-pinecone) (2.11.10)\n",
      "Requirement already satisfied: openai<3.0.0,>=1.104.2 in d:\\saltlux\\workspace_py\\kakao\\venv\\lib\\site-packages (from langchain-openai>=0.3.11->langchain-pinecone) (2.1.0)\n",
      "Requirement already satisfied: tiktoken<1.0.0,>=0.7.0 in d:\\saltlux\\workspace_py\\kakao\\venv\\lib\\site-packages (from langchain-openai>=0.3.11->langchain-pinecone) (0.11.0)\n",
      "Requirement already satisfied: pinecone-plugin-assistant<2.0.0,>=1.6.0 in d:\\saltlux\\workspace_py\\kakao\\venv\\lib\\site-packages (from pinecone<8.0.0,>=6.0.0->pinecone[asyncio]<8.0.0,>=6.0.0->langchain-pinecone) (1.8.0)\n",
      "Requirement already satisfied: pinecone-plugin-interface<0.0.8,>=0.0.7 in d:\\saltlux\\workspace_py\\kakao\\venv\\lib\\site-packages (from pinecone<8.0.0,>=6.0.0->pinecone[asyncio]<8.0.0,>=6.0.0->langchain-pinecone) (0.0.7)\n",
      "Requirement already satisfied: python-dateutil>=2.5.3 in d:\\saltlux\\workspace_py\\kakao\\venv\\lib\\site-packages (from pinecone<8.0.0,>=6.0.0->pinecone[asyncio]<8.0.0,>=6.0.0->langchain-pinecone) (2.9.0.post0)\n",
      "Requirement already satisfied: urllib3>=1.26.5 in d:\\saltlux\\workspace_py\\kakao\\venv\\lib\\site-packages (from pinecone<8.0.0,>=6.0.0->pinecone[asyncio]<8.0.0,>=6.0.0->langchain-pinecone) (2.3.0)\n",
      "Requirement already satisfied: aiohttp>=3.9.0 in d:\\saltlux\\workspace_py\\kakao\\venv\\lib\\site-packages (from pinecone[asyncio]<8.0.0,>=6.0.0->langchain-pinecone) (3.12.15)\n",
      "Requirement already satisfied: aiohttp-retry<3.0.0,>=2.9.1 in d:\\saltlux\\workspace_py\\kakao\\venv\\lib\\site-packages (from pinecone[asyncio]<8.0.0,>=6.0.0->langchain-pinecone) (2.9.1)\n",
      "Requirement already satisfied: aiohappyeyeballs>=2.5.0 in d:\\saltlux\\workspace_py\\kakao\\venv\\lib\\site-packages (from aiohttp>=3.9.0->pinecone[asyncio]<8.0.0,>=6.0.0->langchain-pinecone) (2.6.1)\n",
      "Requirement already satisfied: aiosignal>=1.4.0 in d:\\saltlux\\workspace_py\\kakao\\venv\\lib\\site-packages (from aiohttp>=3.9.0->pinecone[asyncio]<8.0.0,>=6.0.0->langchain-pinecone) (1.4.0)\n",
      "Requirement already satisfied: attrs>=17.3.0 in d:\\saltlux\\workspace_py\\kakao\\venv\\lib\\site-packages (from aiohttp>=3.9.0->pinecone[asyncio]<8.0.0,>=6.0.0->langchain-pinecone) (25.3.0)\n",
      "Requirement already satisfied: frozenlist>=1.1.1 in d:\\saltlux\\workspace_py\\kakao\\venv\\lib\\site-packages (from aiohttp>=3.9.0->pinecone[asyncio]<8.0.0,>=6.0.0->langchain-pinecone) (1.7.0)\n",
      "Requirement already satisfied: multidict<7.0,>=4.5 in d:\\saltlux\\workspace_py\\kakao\\venv\\lib\\site-packages (from aiohttp>=3.9.0->pinecone[asyncio]<8.0.0,>=6.0.0->langchain-pinecone) (6.6.4)\n",
      "Requirement already satisfied: propcache>=0.2.0 in d:\\saltlux\\workspace_py\\kakao\\venv\\lib\\site-packages (from aiohttp>=3.9.0->pinecone[asyncio]<8.0.0,>=6.0.0->langchain-pinecone) (0.4.0)\n",
      "Requirement already satisfied: yarl<2.0,>=1.17.0 in d:\\saltlux\\workspace_py\\kakao\\venv\\lib\\site-packages (from aiohttp>=3.9.0->pinecone[asyncio]<8.0.0,>=6.0.0->langchain-pinecone) (1.21.0)\n",
      "Requirement already satisfied: jsonpointer>=1.9 in d:\\saltlux\\workspace_py\\kakao\\venv\\lib\\site-packages (from jsonpatch<2.0.0,>=1.33.0->langchain-core<1.0.0,>=0.3.34->langchain-pinecone) (3.0.0)\n",
      "Requirement already satisfied: orjson>=3.9.14 in d:\\saltlux\\workspace_py\\kakao\\venv\\lib\\site-packages (from langsmith<1.0.0,>=0.3.45->langchain-core<1.0.0,>=0.3.34->langchain-pinecone) (3.11.3)\n",
      "Requirement already satisfied: requests-toolbelt>=1.0.0 in d:\\saltlux\\workspace_py\\kakao\\venv\\lib\\site-packages (from langsmith<1.0.0,>=0.3.45->langchain-core<1.0.0,>=0.3.34->langchain-pinecone) (1.0.0)\n",
      "Requirement already satisfied: requests>=2.0.0 in d:\\saltlux\\workspace_py\\kakao\\venv\\lib\\site-packages (from langsmith<1.0.0,>=0.3.45->langchain-core<1.0.0,>=0.3.34->langchain-pinecone) (2.32.5)\n",
      "Requirement already satisfied: zstandard>=0.23.0 in d:\\saltlux\\workspace_py\\kakao\\venv\\lib\\site-packages (from langsmith<1.0.0,>=0.3.45->langchain-core<1.0.0,>=0.3.34->langchain-pinecone) (0.25.0)\n",
      "Requirement already satisfied: distro<2,>=1.7.0 in d:\\saltlux\\workspace_py\\kakao\\venv\\lib\\site-packages (from openai<3.0.0,>=1.104.2->langchain-openai>=0.3.11->langchain-pinecone) (1.9.0)\n",
      "Requirement already satisfied: jiter<1,>=0.4.0 in d:\\saltlux\\workspace_py\\kakao\\venv\\lib\\site-packages (from openai<3.0.0,>=1.104.2->langchain-openai>=0.3.11->langchain-pinecone) (0.11.0)\n",
      "Requirement already satisfied: sniffio in d:\\saltlux\\workspace_py\\kakao\\venv\\lib\\site-packages (from openai<3.0.0,>=1.104.2->langchain-openai>=0.3.11->langchain-pinecone) (1.3.1)\n",
      "Requirement already satisfied: tqdm>4 in d:\\saltlux\\workspace_py\\kakao\\venv\\lib\\site-packages (from openai<3.0.0,>=1.104.2->langchain-openai>=0.3.11->langchain-pinecone) (4.67.1)\n",
      "Requirement already satisfied: annotated-types>=0.6.0 in d:\\saltlux\\workspace_py\\kakao\\venv\\lib\\site-packages (from pydantic<3.0.0,>=2.7.4->langchain-core<1.0.0,>=0.3.34->langchain-pinecone) (0.7.0)\n",
      "Requirement already satisfied: pydantic-core==2.33.2 in d:\\saltlux\\workspace_py\\kakao\\venv\\lib\\site-packages (from pydantic<3.0.0,>=2.7.4->langchain-core<1.0.0,>=0.3.34->langchain-pinecone) (2.33.2)\n",
      "Requirement already satisfied: typing-inspection>=0.4.0 in d:\\saltlux\\workspace_py\\kakao\\venv\\lib\\site-packages (from pydantic<3.0.0,>=2.7.4->langchain-core<1.0.0,>=0.3.34->langchain-pinecone) (0.4.2)\n",
      "Requirement already satisfied: six>=1.5 in d:\\saltlux\\workspace_py\\kakao\\venv\\lib\\site-packages (from python-dateutil>=2.5.3->pinecone<8.0.0,>=6.0.0->pinecone[asyncio]<8.0.0,>=6.0.0->langchain-pinecone) (1.17.0)\n",
      "Requirement already satisfied: regex>=2022.1.18 in d:\\saltlux\\workspace_py\\kakao\\venv\\lib\\site-packages (from tiktoken<1.0.0,>=0.7.0->langchain-openai>=0.3.11->langchain-pinecone) (2025.9.18)\n",
      "Requirement already satisfied: charset_normalizer<4,>=2 in d:\\saltlux\\workspace_py\\kakao\\venv\\lib\\site-packages (from requests>=2.0.0->langsmith<1.0.0,>=0.3.45->langchain-core<1.0.0,>=0.3.34->langchain-pinecone) (3.4.3)\n",
      "Requirement already satisfied: colorama in d:\\saltlux\\workspace_py\\kakao\\venv\\lib\\site-packages (from tqdm>4->openai<3.0.0,>=1.104.2->langchain-openai>=0.3.11->langchain-pinecone) (0.4.6)\n",
      "Note: you may need to restart the kernel to use updated packages.\n"
     ]
    },
    {
     "name": "stderr",
     "output_type": "stream",
     "text": [
      "\n",
      "[notice] A new release of pip is available: 24.3.1 -> 25.2\n",
      "[notice] To update, run: python.exe -m pip install --upgrade pip\n"
     ]
    },
    {
     "name": "stdout",
     "output_type": "stream",
     "text": [
      "Found existing installation: pinecone-notebooks 0.1.1\n",
      "Uninstalling pinecone-notebooks-0.1.1:\n",
      "  Successfully uninstalled pinecone-notebooks-0.1.1\n",
      "Note: you may need to restart the kernel to use updated packages.\n"
     ]
    }
   ],
   "source": [
    "%pip install langchain-pinecone\n",
    "%pip uninstall -y pinecone-notebooks"
   ]
  },
  {
   "cell_type": "code",
   "execution_count": null,
   "id": "12b8b39d",
   "metadata": {},
   "outputs": [],
   "source": [
    "import os\n",
    "pinecone_api_key = os.environ.get('PINECONE_API_KEY')\n",
    "pinecone_api_key\n",
    "\n",
    "import time\n",
    "from pinecone import Pinecone\n",
    "\n",
    "pc = Pinecone(api_key = pinecone_api_key)\n",
    "\n",
    "from langchain_pinecone import PineconeVectorStore\n",
    "docsearch = PineconeVectorStore.from_documents(document_list, embedding, index_name='law-index')\n",
    "\n",
    "# https://app.pinecone.io/organizations/-OasVVm2CSiU2NFk0Xgn/projects/265939b5-2667-4641-8108-97fd684a3539/indexes/law-index/browser\n",
    "\n"
   ]
  },
  {
   "cell_type": "code",
   "execution_count": null,
   "id": "741b392b",
   "metadata": {},
   "outputs": [
    {
     "data": {
      "text/plain": [
       "['문서: 원자력안전법\\n\\n원자력안전법\\n\\n\\n\\n원자력안전법\\n\\n원자력안전법\\n\\n\\n\\n원자력안전법\\n\\n[시행 2020. 6. 9] [법률 제17359호, 2020. 6. 9, 타법개정]\\n\\n원자력안전위원회(안전정책과)  02-397-7264\\n\\n원자력안전위원회(안전기준과)  02-397-7303\\n\\n원자력안전위원회(방사선안전과)  02-397-7337\\n\\n원자력안전위원회(생활방사선안전과)  02-397-7334\\n\\n제1장 총칙\\n\\n제1조(목적) 이 법은 원자력의 연구ㆍ개발ㆍ생산ㆍ이용 등에 따른 안전관리에 관한 사항을 규정하여 방사선에 의 한 재해의 방지와 공공의 안전을 도모함을 목적으로 한다. <개정 2014. 5. 21.>\\n\\n제2조(정의) 이 법에서 사용하는 용어의 뜻은 다음과 같다. <개정 2013. 3. 23., 2014. 5. 21., 2015. 1. 20., 2015.\\n\\n6. 22., 2015. 12. 22.>\\n\\n\\t\"원자력\"이란 원자핵 변화의 과정에 있어서 원자핵으로부터 방출되는 모든 종류의 에너지를 말한다.\\n\\n\\t\"핵물질\"이란 핵연료물질 및 핵원료물질을 말한다.\\n\\n\\t\"핵연료물질\"이란 우라늄ㆍ토륨 등 원자력을 발생할 수 있는 물질로서 대❹령령으로 정하는 것을 말한다.\\n\\n\\t\\t\"핵원료물질\"이란 우라늄광ㆍ토륨광과 그 밖의 핵연료물질의 원료가 되는 물질로서 대❹령령으로 정하는 것 을 말한다.\\n\\n\\t\\t\"방사성물질\"이란 핵연료물질ㆍ사용후핵연료ㆍ방사성동위원소 및 원자핵분열생성물(原子核分裂生成物)을 말 한다.\\n\\n\\t\"방사성동위원소\"란 방사선을 방출하는 동위원소와 그 화합물 중 대❹령령으로 정하는 것을 말한다.\\n\\n\\t\"방사선\"이란 전자파 또는 입자선 중 직접 또는 간접으로 공기를 전리(電離)하는 능력을 가진 것으로서 대\\n\\n❹령령으로 정하는 것을 말한다.\\n\\n\\t\"원자로\"란 핵연료물질을 연료로 사용하는 장치를 말한다. 다만, 대❹령령으로 정하는 것은 제외한다.\\n\\n\\t\\t\"방사선발생장치\"란 하전입자(荷電粒子)를 가속시켜 방사선을 발생시키는 장치로서 대❹령령으로 정하는 것 을 말한다. \\n\\n',\n",
       " '문서: 원자력안전법\\n\\n원자력안전법\\n\\n\\n\\n원자력안전법\\n\\n원자력안전법\\n\\n\\n\\n원자력안전법\\n\\n[시행 2020. 6. 9] [법률 제17359호, 2020. 6. 9, 타법개정]\\n\\n원자력안전위원회(안전정책과)  02-397-7264\\n\\n원자력안전위원회(안전기준과)  02-397-7303\\n\\n원자력안전위원회(방사선안전과)  02-397-7337\\n\\n원자력안전위원회(생활방사선안전과)  02-397-7334\\n\\n제1장 총칙\\n\\n제1조(목적) 이 법은 원자력의 연구ㆍ개발ㆍ생산ㆍ이용 등에 따른 안전관리에 관한 사항을 규정하여 방사선에 의 한 재해의 방지와 공공의 안전을 도모함을 목적으로 한다. <개정 2014. 5. 21.>\\n\\n제2조(정의) 이 법에서 사용하는 용어의 뜻은 다음과 같다. <개정 2013. 3. 23., 2014. 5. 21., 2015. 1. 20., 2015.\\n\\n6. 22., 2015. 12. 22.>\\n\\n\\t\"원자력\"이란 원자핵 변화의 과정에 있어서 원자핵으로부터 방출되는 모든 종류의 에너지를 말한다.\\n\\n\\t\"핵물질\"이란 핵연료물질 및 핵원료물질을 말한다.\\n\\n\\t\"핵연료물질\"이란 우라늄ㆍ토륨 등 원자력을 발생할 수 있는 물질로서 대❹령령으로 정하는 것을 말한다.\\n\\n\\t\\t\"핵원료물질\"이란 우라늄광ㆍ토륨광과 그 밖의 핵연료물질의 원료가 되는 물질로서 대❹령령으로 정하는 것 을 말한다.\\n\\n\\t\\t\"방사성물질\"이란 핵연료물질ㆍ사용후핵연료ㆍ방사성동위원소 및 원자핵분열생성물(原子核分裂生成物)을 말 한다.\\n\\n\\t\"방사성동위원소\"란 방사선을 방출하는 동위원소와 그 화합물 중 대❹령령으로 정하는 것을 말한다.\\n\\n\\t\"방사선\"이란 전자파 또는 입자선 중 직접 또는 간접으로 공기를 전리(電離)하는 능력을 가진 것으로서 대\\n\\n❹령령으로 정하는 것을 말한다.\\n\\n\\t\"원자로\"란 핵연료물질을 연료로 사용하는 장치를 말한다. 다만, 대❹령령으로 정하는 것은 제외한다.\\n\\n\\t\\t\"방사선발생장치\"란 하전입자(荷電粒子)를 가속시켜 방사선을 발생시키는 장치로서 대❹령령으로 정하는 것 을 말한다. \\n\\n',\n",
       " '문서: 발전용원자로 및 관계시설의 건설로 인하여 발생되는 방사성물질등으로부터 국민의 건강 및 환경상의 위해\\n\\n를 방지하기 위하여 대❹령령으로 정하는 기준에 적합할 것\\n\\n\\t제10조제2항에 따른 품질보증계획서의 내용이 위원회규칙으로 정하는 기준에 적합할 것\\n\\n\\t제10조제2항에 따른 해체계획서의 내용이 위원회규칙으로 정하는 기준에 적합할 것\\n\\n제12조(표준설계인가) ① 같은 설계의 발전용원자로 및 관계시설을 반복적으로 건설하려는 자는 그 설계(이하 \" 표준설계\"라 한다)에 관하여 대❹령령으로 정하는 바에 따라 위원회의 인가를 받을 수 있다. 인가받은 사항을 변경하려는 때에도 또한 같다. 다만, 총리령으로 정하는 경미한 사항을 변경하려는 때에는 이를 신고하여야 한 다. <개정 2013. 3. 23.>\\n\\n② 제1항에 따른 인가를 받으려는 자는 인가신청서에 표준설계기술서와 그 밖에 총리령으로 정하는 서류를 첨 부하여 위원회에 제출하여야 한다. <개정 2013. 3. 23.>\\n\\n③ 제1항에 따른 인가의 유효기간은 10년으로 하되, 위원회는 유효기간 중이라도 설계의 안전성에 중대한 영 향이 있다고 인정하면 표준설계인가를 받은 자에게 인가받은 사항에 대한 시정 또는 보완을 명할 수 있다.\\n\\n\\n\\n법제처\\n\\n법제처\\n\\n- 2 / 37 -\\n\\n- 2 / 37 -\\n\\n국가법령정보센터\\n\\n국가법령정보센터 \\n\\n']"
      ]
     },
     "execution_count": 16,
     "metadata": {},
     "output_type": "execute_result"
    }
   ],
   "source": [
    "from langchain_chroma import Chroma\n",
    "\n",
    "# 벡터로 저장. persist_directory: 파일로 영구저장 (sqlite3 기반), collection_name: 콜렉션명지정.\n",
    "\n",
    "# readonly. 조회용. \n",
    "## Chroma -> PineconeVectorStore 로 (색인,조회,검색)변경하는데 10분도 걸리지 않음.\n",
    "database = PineconeVectorStore.from_documents(document_list, embedding, index_name='law-index')\n",
    "\n",
    "# 쿼리, 갯수에 대해 유사검색을 처리\n",
    "query = '원자력안전법 1조에 대한 내용을 요약해서 알려주세요'\n",
    "retrieve_documents = database.similarity_search(query, k=3)\n",
    "\n",
    "retrieve_document_list = []\n",
    "for rdoc in retrieve_documents :\n",
    "    retrieve_document_list.append(f'문서: {rdoc.page_content} \\n\\n')\n",
    "\n",
    "retrieve_document_list\n"
   ]
  },
  {
   "cell_type": "code",
   "execution_count": 17,
   "id": "38530bf7",
   "metadata": {},
   "outputs": [
    {
     "data": {
      "text/plain": [
       "'원자력안전법 제1조는 이 법의 목적을 설명하고 있습니다. 이 법은 원자력의 연구, 개발, 생산 및 이용과 관련된 안전관리를 규정하며, 방사선으로 인한 재해를 방지하고 공공의 안전을 도모하는 것을 목적으로 하고 있습니다. 이 조항은 2014년 5월 21일에 개정되었습니다.'"
      ]
     },
     "execution_count": 17,
     "metadata": {},
     "output_type": "execute_result"
    }
   ],
   "source": [
    "from langchain_openai import ChatOpenAI\n",
    "llm = ChatOpenAI(model = \"gpt-4o-mini\")\n",
    "\n",
    "prompt = f\"\"\"\n",
    "    # 지시\n",
    "    - 다음 규칙에 따라 신뢰성이 있는 답변형식으로 답변하세요.\n",
    "    \n",
    "    # 규칙\n",
    "    - 다음 사용자 #질문에 대해 #문서를 참고해서 사용자의 질문에 답변하세요.\n",
    "    - 만약 #문서의 내용이 질문에 대한 답변이 적절하지 못하다면, 해당 문서로는 답변할수 없습니다 라고 답변하세요.\n",
    "\n",
    "    # 질문\n",
    "    {query}\n",
    "    \n",
    "    # 문서\n",
    "    {retrieve_document_list}\n",
    "\"\"\"\n",
    "# 프롬프트 포함한 답변 생성요청\n",
    "ai_message = llm.invoke(prompt)\n",
    "\n",
    "# 답변 결과\n",
    "ai_message.content\n"
   ]
  },
  {
   "cell_type": "code",
   "execution_count": null,
   "id": "b7fc935e",
   "metadata": {},
   "outputs": [
    {
     "name": "stdout",
     "output_type": "stream",
     "text": [
      "Note: you may need to restart the kernel to use updated packages.\n"
     ]
    },
    {
     "name": "stderr",
     "output_type": "stream",
     "text": [
      "\n",
      "[notice] A new release of pip is available: 24.3.1 -> 25.2\n",
      "[notice] To update, run: python.exe -m pip install --upgrade pip\n"
     ]
    }
   ],
   "source": [
    "# langchain 용도의 프롬프트를 가져다 쓸수 있음.\n",
    "%pip install -U langchain langchainhub --quiet"
   ]
  },
  {
   "cell_type": "code",
   "execution_count": 19,
   "id": "2abe8401",
   "metadata": {},
   "outputs": [
    {
     "data": {
      "text/plain": [
       "ChatPromptTemplate(input_variables=['context', 'question'], input_types={}, partial_variables={}, metadata={'lc_hub_owner': 'rlm', 'lc_hub_repo': 'rag-prompt', 'lc_hub_commit_hash': '50442af133e61576e74536c6556cefe1fac147cad032f4377b60c436e6cdcb6e'}, messages=[HumanMessagePromptTemplate(prompt=PromptTemplate(input_variables=['context', 'question'], input_types={}, partial_variables={}, template=\"You are an assistant for question-answering tasks. Use the following pieces of retrieved context to answer the question. If you don't know the answer, just say that you don't know. Use three sentences maximum and keep the answer concise.\\nQuestion: {question} \\nContext: {context} \\nAnswer:\"), additional_kwargs={})])"
      ]
     },
     "execution_count": 19,
     "metadata": {},
     "output_type": "execute_result"
    }
   ],
   "source": [
    "from langchain import hub\n",
    "prompt = hub.pull('rlm/rag-prompt')\n",
    "\n",
    "# ChatPromptTemplate(input_variables=['context', 'question'], input_types={}, partial_variables={}, metadata={'lc_hub_owner': 'rlm', 'lc_hub_repo': 'rag-prompt', 'lc_hub_commit_hash': '50442af133e61576e74536c6556cefe1fac147cad032f4377b60c436e6cdcb6e'}, messages=[HumanMessagePromptTemplate(prompt=PromptTemplate(input_variables=['context', 'question'], input_types={}, partial_variables={}, template=\"You are an assistant for question-answering tasks. Use the following pieces of retrieved context to answer the question. If you don't know the answer, just say that you don't know. Use three sentences maximum and keep the answer concise.\\nQuestion: {question} \\nContext: {context} \\nAnswer:\"), additional_kwargs={})])\n",
    "prompt"
   ]
  },
  {
   "cell_type": "code",
   "execution_count": 21,
   "id": "cd5ae817",
   "metadata": {},
   "outputs": [
    {
     "data": {
      "text/plain": [
       "{'query': '원자력안전법 1조에 대한 내용을 요약해서 알려주세요',\n",
       " 'result': '원자력안전법 제1조는 원자력의 연구, 개발, 생산 및 이용에 따른 안전 관리를 규정하여 방사선에 의한 재해를 예방하고 공공의 안전을 도모하는 것을 목적으로 합니다. 이 법은 2020년 6월 9일에 시행되었으며, 2014년 5월 21일에 개정되었습니다.'}"
      ]
     },
     "execution_count": 21,
     "metadata": {},
     "output_type": "execute_result"
    }
   ],
   "source": [
    "from langchain.chains import RetrievalQA\n",
    "\n",
    "retriever = database.as_retriever()\n",
    "qa_chain = RetrievalQA.from_chain_type(\n",
    "    llm,\n",
    "    retriever=retriever, # Chroma뿐 아니라, 파인콘, AzureAISearch 등 다른곳에서도 사용이 가능함.\n",
    "    chain_type_kwargs = {\"prompt\": prompt}\n",
    ")\n",
    "\n",
    "# query = '원자력안전법 1조에 대한 내용을 요약해서 알려주세요'\n",
    "ai_message = qa_chain({\"query\": query})\n",
    "\n",
    "#{'query': '원자력안전법 1조에 대한 내용을 요약해서 알려주세요',\n",
    "# 'result': '원자력안전법 제1조는 원자력의 연구, 개발, 생산 및 이용에 따른 안전관리를 규정하여 방사선으로 인한 재해를 방지하고 공공의 안전을 증진하는 것을 목적으로 한다. 이 법은 2020년 6월 9일 시행되었다. 관련 규정들은 원자력안전위원회가 관장한다.'}\n",
    "ai_message"
   ]
  },
  {
   "cell_type": "code",
   "execution_count": null,
   "id": "2cac8ed6",
   "metadata": {},
   "outputs": [],
   "source": [
    "# 검색 효율개선을 위한 데이터전처리\n",
    "\n",
    "# image -> table\n",
    "# 표데이터 -> 수작업으로 테이블로 만들어서 문서에 첨부한다.\n",
    "# 표 데이터는 -> markdown 형식으로 나타내야 인식한다.\n",
    "\n",
    "# 키워드 사전 활용\n",
    "# | 을 사용해서 개선 - > ex) chain = prompt | model | StrOutputParser()\n",
    "from langchain_core.output_parsers import StrOutputParser\n",
    "from langchain_core.prompts import ChatPromptTemplate\n",
    "\n",
    "\n",
    "dictionary = [\"원자력안전법 -> 방사선안전법\"]\n",
    "prompt = ChatPromptTemplate.from_template(f\"\"\"\n",
    "    사용자의 질문을 보고, 우리의 사전을 참고해서 사용자의 질문을 변경해주세요.\n",
    "    만약 변경할 필요가 없다고 판단되면, 사용자의 질문을 변경하지 않아도 됩니다. 이 경우엔, 답변만 반환합니다.\n",
    "    사전: {dictionary}\n",
    "    질문: {{question}}\n",
    "\"\"\")\n",
    "\n",
    "# 모델을 통해 답변을 받아 전처리 해주는 코드.\n",
    "dictionary_chain = prompt | llm | StrOutputParser()\n",
    "new_question = dictionary_chain.invoke({\"question\": query}) # -> {{question}}\n"
   ]
  },
  {
   "cell_type": "code",
   "execution_count": null,
   "id": "6134e6bc",
   "metadata": {},
   "outputs": [
    {
     "data": {
      "text/plain": [
       "'방사선안전법 1조에 대한 내용을 요약해서 알려주세요.'"
      ]
     },
     "execution_count": 29,
     "metadata": {},
     "output_type": "execute_result"
    }
   ],
   "source": [
    "# query = '원자력안전법 1조에 대한 내용을 요약해서 알려주세요'\n",
    "# new_question = '방사선안전법 1조에 대한 내용을 요약해서 알려주세요.' // 원자력안전법 -> 방사선안전법\n",
    "new_question"
   ]
  },
  {
   "cell_type": "code",
   "execution_count": null,
   "id": "93d31bbd",
   "metadata": {},
   "outputs": [],
   "source": [
    "law_chain = {\"query\": dictionary_chain} | qa_chain\n",
    "ai_response = law_chain.invoke({\"question\": query})\n",
    "ai_response"
   ]
  },
  {
   "cell_type": "code",
   "execution_count": null,
   "id": "badb344a",
   "metadata": {},
   "outputs": [
    {
     "data": {
      "text/plain": [
       "{'query': '방사선안전법 1조에 대한 내용을 요약해서 알려주세요.',\n",
       " 'result': '방사선안전법 제1조는 원자력의 연구, 개발, 생산, 이용 등과 관련된 안전관리를 규정하여 방사선으로 인한 재해를 예방하고 공공의 안전을 도모하는 것을 목적으로 하고 있습니다. 이 법은 방사선과 관련된 안전 기준을 설정하여 국민의 안전을 보호하는 데 기여하고자 합니다.'}"
      ]
     },
     "execution_count": 32,
     "metadata": {},
     "output_type": "execute_result"
    }
   ],
   "source": []
  },
  {
   "cell_type": "code",
   "execution_count": null,
   "id": "9941e679",
   "metadata": {},
   "outputs": [],
   "source": []
  }
 ],
 "metadata": {
  "kernelspec": {
   "display_name": "venv",
   "language": "python",
   "name": "python3"
  },
  "language_info": {
   "codemirror_mode": {
    "name": "ipython",
    "version": 3
   },
   "file_extension": ".py",
   "mimetype": "text/x-python",
   "name": "python",
   "nbconvert_exporter": "python",
   "pygments_lexer": "ipython3",
   "version": "3.13.2"
  }
 },
 "nbformat": 4,
 "nbformat_minor": 5
}
