{
 "cells": [
  {
   "cell_type": "code",
   "execution_count": 10,
   "id": "12b8b39d",
   "metadata": {},
   "outputs": [
    {
     "name": "stdout",
     "output_type": "stream",
     "text": [
      "1st prompt: input_variables=['context', 'question'] input_types={} partial_variables={} metadata={'lc_hub_owner': 'rlm', 'lc_hub_repo': 'rag-prompt', 'lc_hub_commit_hash': '50442af133e61576e74536c6556cefe1fac147cad032f4377b60c436e6cdcb6e'} messages=[HumanMessagePromptTemplate(prompt=PromptTemplate(input_variables=['context', 'question'], input_types={}, partial_variables={}, template=\"You are an assistant for question-answering tasks. Use the following pieces of retrieved context to answer the question. If you don't know the answer, just say that you don't know. Use three sentences maximum and keep the answer concise.\\nQuestion: {question} \\nContext: {context} \\nAnswer:\"), additional_kwargs={})]\n",
      "1st rephrase_prompt: input_variables=['question'] input_types={} partial_variables={} messages=[HumanMessagePromptTemplate(prompt=PromptTemplate(input_variables=['question'], input_types={}, partial_variables={}, template=\"\\n    사용자의 질문을 보고, 우리의 사전을 참고해서 사용자의 질문을 변경해주세요.\\n    만약 변경할 필요가 없다고 판단되면, 사용자의 질문을 변경하지 않아도 됩니다. 이 경우엔, 답변만 반환합니다.\\n    사전: ['원자력안전법 -> 방사선안전법']\\n    질문: {question}\\n\"), additional_kwargs={})]\n",
      "ai_response: {'query': '방사선안전법 1조에 대한 내용을 요약해서 알려주세요.', 'result': '방사선안전법 제1조의 목적은 원자력의 연구, 개발, 생산, 이용에 따른 안전관리를 규정하여 방사선으로 인한 재해를 방지하고 공공의 안전을 도모하는 것입니다. 이 법은 공공의 안전을 위한 방사선 관련 활동의 관리를 강조합니다. 이는 원자력과 관련한 안전 기준과 정책을 설정하는 목적을 가지고 있습니다.'}\n"
     ]
    }
   ],
   "source": [
    "import os\n",
    "pinecone_api_key = os.environ.get('PINECONE_API_KEY')\n",
    "from dotenv import load_dotenv\n",
    "from langchain_openai import OpenAIEmbeddings\n",
    "from langchain_pinecone import PineconeVectorStore\n",
    "from langchain_openai import ChatOpenAI\n",
    "from langchain.chains import RetrievalQA\n",
    "from langchain_core.output_parsers import StrOutputParser\n",
    "from langchain_core.prompts import ChatPromptTemplate\n",
    "from langchain import hub\n",
    "\n",
    "load_dotenv()\n",
    "embedding = OpenAIEmbeddings(model = 'text-embedding-3-large'\n",
    "                             , dimensions=1024) # 벡터 dimension에 맞게 조절가능. default openAI embedding: 3072\n",
    "\n",
    "# readonly. 조회용. \n",
    "index_name = 'law-index'\n",
    "query = '원자력안전법 1조에 대한 내용을 요약해서 알려주세요'\n",
    "database = PineconeVectorStore.from_existing_index(index_name=index_name, embedding=embedding)\n",
    "\n",
    "# 쿼리, 갯수에 대해 유사검색을 처리\n",
    "retrieve_documents = database.similarity_search(query, k=3)\n",
    "\n",
    "llm = ChatOpenAI(model = \"gpt-4o-mini\")\n",
    "prompt = hub.pull('rlm/rag-prompt')\n",
    "retriever = database.as_retriever()\n",
    "qa_chain = RetrievalQA.from_chain_type(\n",
    "    llm,\n",
    "    retriever=retriever, # Chroma뿐 아니라, 파인콘, AzureAISearch 등 다른곳에서도 사용이 가능함.\n",
    "    chain_type_kwargs = {\"prompt\": prompt}\n",
    ")\n",
    "print(f'1st prompt: {prompt}')\n",
    "\n",
    "dictionary = [\"원자력안전법 -> 방사선안전법\"]\n",
    "rephrase_prompt = ChatPromptTemplate.from_template(f\"\"\"\n",
    "    사용자의 질문을 보고, 우리의 사전을 참고해서 사용자의 질문을 변경해주세요.\n",
    "    만약 변경할 필요가 없다고 판단되면, 사용자의 질문을 변경하지 않아도 됩니다. 이 경우엔, 답변만 반환합니다.\n",
    "    사전: {dictionary}\n",
    "    질문: {{question}}\n",
    "\"\"\")\n",
    "print(f'1st rephrase_prompt: {rephrase_prompt}')\n",
    "\n",
    "# 모델을 통해 답변을 받아 전처리 해주는 코드.\n",
    "dictionary_chain = rephrase_prompt | llm | StrOutputParser()\n",
    "# new_question = dictionary_chain.invoke({\"question\": query}) # -> {{question}}\n",
    "\n",
    "law_chain = {\"query\": dictionary_chain} | qa_chain\n",
    "ai_response = law_chain.invoke({\"question\": query})\n",
    "print(f'ai_response: {ai_response}')\n"
   ]
  },
  {
   "cell_type": "code",
   "execution_count": null,
   "id": "456a4cd7",
   "metadata": {},
   "outputs": [],
   "source": []
  }
 ],
 "metadata": {
  "kernelspec": {
   "display_name": "venv",
   "language": "python",
   "name": "python3"
  },
  "language_info": {
   "codemirror_mode": {
    "name": "ipython",
    "version": 3
   },
   "file_extension": ".py",
   "mimetype": "text/x-python",
   "name": "python",
   "nbconvert_exporter": "python",
   "pygments_lexer": "ipython3",
   "version": "3.13.2"
  }
 },
 "nbformat": 4,
 "nbformat_minor": 5
}
